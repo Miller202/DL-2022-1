{
  "nbformat": 4,
  "nbformat_minor": 0,
  "metadata": {
    "colab": {
      "name": "numpy_tutorial_questions.ipynb",
      "provenance": []
    },
    "kernelspec": {
      "name": "python3",
      "display_name": "Python 3"
    },
    "language_info": {
      "name": "python"
    },
    "gpuClass": "standard"
  },
  "cells": [
    {
      "cell_type": "code",
      "source": [
        "import numpy as np\n",
        "import pandas as pd\n",
        "import matplotlib.pyplot as plt"
      ],
      "metadata": {
        "id": "m0nLJl-do3-D"
      },
      "execution_count": null,
      "outputs": []
    },
    {
      "cell_type": "markdown",
      "source": [
        "# NumPy Array"
      ],
      "metadata": {
        "id": "P6xevRHxouYC"
      }
    },
    {
      "cell_type": "code",
      "execution_count": null,
      "metadata": {
        "colab": {
          "base_uri": "https://localhost:8080/"
        },
        "id": "_A3pMBTWc41f",
        "outputId": "54111768-4f45-4316-f2af-ecb0e370d5ec"
      },
      "outputs": [
        {
          "output_type": "stream",
          "name": "stdout",
          "text": [
            "[[0 0 0]\n",
            " [0 0 0]\n",
            " [0 0 0]\n",
            " [0 0 0]]\n",
            "\n",
            "\n",
            "[[7.5 7.5 7.5 7.5]\n",
            " [7.5 7.5 7.5 7.5]\n",
            " [7.5 7.5 7.5 7.5]\n",
            " [7.5 7.5 7.5 7.5]]\n",
            "\n",
            "\n",
            "[[0. 0. 0. 0. 0.]\n",
            " [0. 0. 0. 0. 0.]\n",
            " [0. 0. 0. 0. 0.]]\n",
            "\n",
            "\n",
            "[[1. 1.]\n",
            " [1. 1.]\n",
            " [1. 1.]\n",
            " [1. 1.]\n",
            " [1. 1.]]\n",
            "\n",
            "\n"
          ]
        }
      ],
      "source": [
        "# How to create an empty and a full NumPy array?\n",
        "\n",
        "empty_arr = np.empty((4, 3), dtype=int)\n",
        "print(empty_arr)\n",
        "\n",
        "print(\"\\n\")\n",
        "\n",
        "full_arr = np.full((4,4), 7.5, dtype=float)\n",
        "print(full_arr)\n",
        "\n",
        "print(\"\\n\")\n",
        "\n",
        "# Create a Numpy array filled with all zeros\n",
        "\n",
        "zero_arr = np.zeros((3,5))\n",
        "print(zero_arr)\n",
        "\n",
        "print(\"\\n\")\n",
        "\n",
        "# Create a Numpy array filled with all ones\n",
        "\n",
        "ones_arr = np.ones((5,2))\n",
        "print(ones_arr)\n",
        "\n",
        "print(\"\\n\")"
      ]
    },
    {
      "cell_type": "code",
      "source": [
        "# Check whether a Numpy array contains a specified row\n",
        "\n",
        "arr = np.array([[5, 8, 6], [2, 1, 4], [7, 8, 9]])\n",
        "\n",
        "print([5, 5, 2] in arr.tolist())\n",
        "print([5, 8, 6] in arr.tolist())\n",
        "print([1, 2, 3] in arr.tolist())\n",
        "print([7, 8, 9] in arr.tolist())"
      ],
      "metadata": {
        "colab": {
          "base_uri": "https://localhost:8080/"
        },
        "id": "3AQ28puwssib",
        "outputId": "4fb0f330-ec7b-4f46-d624-590997c275aa"
      },
      "execution_count": null,
      "outputs": [
        {
          "output_type": "stream",
          "name": "stdout",
          "text": [
            "False\n",
            "True\n",
            "False\n",
            "True\n"
          ]
        }
      ]
    },
    {
      "cell_type": "code",
      "source": [
        "# How to Remove rows in Numpy array that contains non-numeric values?\n",
        "\n",
        "arr = np.array([[8, 9, 1], [25, 12, np.nan]\n",
        "                , [38, 18, 49], [75, np.nan, 27]])\n",
        "  \n",
        "arr[~np.isnan(arr).any(axis=1)]"
      ],
      "metadata": {
        "colab": {
          "base_uri": "https://localhost:8080/"
        },
        "id": "JVgKXnest3z3",
        "outputId": "d7b67728-1da6-4919-ca9b-245bf7f1b264"
      },
      "execution_count": null,
      "outputs": [
        {
          "output_type": "execute_result",
          "data": {
            "text/plain": [
              "array([[ 8.,  9.,  1.],\n",
              "       [38., 18., 49.]])"
            ]
          },
          "metadata": {},
          "execution_count": 63
        }
      ]
    },
    {
      "cell_type": "code",
      "source": [
        "# Remove single-dimensional entries from the shape of an array\n",
        "\n",
        "arr = np.zeros((3, 1, 5))\n",
        "\n",
        "np.squeeze(arr).shape"
      ],
      "metadata": {
        "colab": {
          "base_uri": "https://localhost:8080/"
        },
        "id": "wBaKMIuOv7Y-",
        "outputId": "e5fbbfa1-17dd-4f6c-a4de-a462c6d1b74f"
      },
      "execution_count": null,
      "outputs": [
        {
          "output_type": "execute_result",
          "data": {
            "text/plain": [
              "(3, 5)"
            ]
          },
          "metadata": {},
          "execution_count": 60
        }
      ]
    },
    {
      "cell_type": "code",
      "source": [
        "# Find the number of occurrences of a sequence in a NumPy array\n",
        "\n",
        "arr = np.array([[1, 5, 8, 2], \n",
        "                [4, 7, 1, 5],\n",
        "                [6, 1, 5, 6]])\n",
        "  \n",
        "repr(arr).count(\"1, 5\")"
      ],
      "metadata": {
        "colab": {
          "base_uri": "https://localhost:8080/"
        },
        "id": "fFBLTaHJww0h",
        "outputId": "875f7d5e-4f50-4d3f-b21e-68542bcda2a9"
      },
      "execution_count": null,
      "outputs": [
        {
          "output_type": "execute_result",
          "data": {
            "text/plain": [
              "3"
            ]
          },
          "metadata": {},
          "execution_count": 59
        }
      ]
    },
    {
      "cell_type": "code",
      "source": [
        "# Find the most frequent value in a NumPy array\n",
        "\n",
        "arr = np.array([3, 8, 9, 8, 8, 8, 8, 7, 5, 3, 2 ,6])\n",
        "\n",
        "np.bincount(arr).argmax()"
      ],
      "metadata": {
        "colab": {
          "base_uri": "https://localhost:8080/"
        },
        "id": "oltJEqMcy0A0",
        "outputId": "3a9d8bc1-b08e-45d2-8c66-c3d07f48239e"
      },
      "execution_count": null,
      "outputs": [
        {
          "output_type": "execute_result",
          "data": {
            "text/plain": [
              "8"
            ]
          },
          "metadata": {},
          "execution_count": 58
        }
      ]
    },
    {
      "cell_type": "code",
      "source": [
        "# Combining a one and a two-dimensional NumPy Array\n",
        "\n",
        "arr_1 = np.array([2, 3, 5])\n",
        "arr_2 = np.array([[1, 2, 5], [3, 8, 6]])\n",
        "\n",
        "for i, j in np.nditer([arr_1, arr_2]):\n",
        "    print(\"%d - %d\" % (i, j),)"
      ],
      "metadata": {
        "colab": {
          "base_uri": "https://localhost:8080/"
        },
        "id": "bZkV8MhXzVbg",
        "outputId": "9004a5fe-5d7a-47a3-f698-73213f58eecd"
      },
      "execution_count": null,
      "outputs": [
        {
          "output_type": "stream",
          "name": "stdout",
          "text": [
            "2 - 1\n",
            "3 - 2\n",
            "5 - 5\n",
            "2 - 3\n",
            "3 - 8\n",
            "5 - 6\n"
          ]
        }
      ]
    },
    {
      "cell_type": "code",
      "source": [
        "# How to build an array of all combinations of two NumPy arrays?\n",
        "\n",
        "arr_1 = np.array([3, 5])\n",
        "arr_2 = np.array([8, 2, 4])\n",
        "\n",
        "np.array(np.meshgrid(arr_1, arr_2)).T.reshape(-1, 2)"
      ],
      "metadata": {
        "colab": {
          "base_uri": "https://localhost:8080/"
        },
        "id": "isyYMl1C0kta",
        "outputId": "93030ec5-12d3-4011-82d3-6a7b9aeeb254"
      },
      "execution_count": null,
      "outputs": [
        {
          "output_type": "execute_result",
          "data": {
            "text/plain": [
              "array([[3, 8],\n",
              "       [3, 2],\n",
              "       [3, 4],\n",
              "       [5, 8],\n",
              "       [5, 2],\n",
              "       [5, 4]])"
            ]
          },
          "metadata": {},
          "execution_count": 57
        }
      ]
    },
    {
      "cell_type": "code",
      "source": [
        "# How to add a border around a NumPy array?\n",
        "\n",
        "arr = np.full((4,2), 3)\n",
        "\n",
        "np.pad(arr, pad_width=1, mode='constant', constant_values=0)"
      ],
      "metadata": {
        "colab": {
          "base_uri": "https://localhost:8080/"
        },
        "id": "sA8RxkWDArBc",
        "outputId": "0792c47f-0f81-4eea-9e3b-dae5010eae61"
      },
      "execution_count": null,
      "outputs": [
        {
          "output_type": "execute_result",
          "data": {
            "text/plain": [
              "array([[0, 0, 0, 0],\n",
              "       [0, 3, 3, 0],\n",
              "       [0, 3, 3, 0],\n",
              "       [0, 3, 3, 0],\n",
              "       [0, 3, 3, 0],\n",
              "       [0, 0, 0, 0]])"
            ]
          },
          "metadata": {},
          "execution_count": 64
        }
      ]
    },
    {
      "cell_type": "code",
      "source": [
        "# How to compare two NumPy arrays?\n",
        "\n",
        "arr_1 = np.array([2, 3, 4])\n",
        "arr_2 = np.array([2, 5, 4])\n",
        "\n",
        "compare = (arr_1 == arr_2)\n",
        "print(compare.all(), \"\\n\")\n",
        "\n",
        "arr_3 = np.array([7, 5, 6])\n",
        "arr_4 = np.array([1, 3, 9])\n",
        "\n",
        "print(np.greater(arr_3, arr_4))\n",
        "print(np.less(arr_3, arr_4))\n",
        "print(np.greater_equal(arr_3, arr_4))\n",
        "print(np.less_equal(arr_3, arr_4))"
      ],
      "metadata": {
        "colab": {
          "base_uri": "https://localhost:8080/"
        },
        "id": "eFbRrz9aBPmp",
        "outputId": "9db5a81a-ba2f-4e51-b89a-57a84590c437"
      },
      "execution_count": null,
      "outputs": [
        {
          "output_type": "stream",
          "name": "stdout",
          "text": [
            "False \n",
            "\n",
            "[ True  True False]\n",
            "[False False  True]\n",
            "[ True  True False]\n",
            "[False False  True]\n"
          ]
        }
      ]
    },
    {
      "cell_type": "code",
      "source": [
        "# How to check whether specified values are present in NumPy array?\n",
        "\n",
        "arr = np.array([[1, 5, 8], \n",
        "                [4, 7, 1]])\n",
        "\n",
        "print(1 in arr)\n",
        "print(2 in arr)\n",
        "print(6 in arr)\n",
        "print(8 in arr)"
      ],
      "metadata": {
        "colab": {
          "base_uri": "https://localhost:8080/"
        },
        "id": "DR697I2pC7oX",
        "outputId": "52d856f8-cee0-44c2-dec8-8423f329191d"
      },
      "execution_count": null,
      "outputs": [
        {
          "output_type": "stream",
          "name": "stdout",
          "text": [
            "True\n",
            "False\n",
            "False\n",
            "True\n"
          ]
        }
      ]
    },
    {
      "cell_type": "code",
      "source": [
        "# How to get all 2D diagonals of a 3D NumPy array?\n",
        "\n",
        "arr = np.arange(3 * 3 * 4).reshape(3, 3, 4)\n",
        "print(arr, \"\\n\")\n",
        "\n",
        "print(np.diagonal(arr, axis1=1, axis2=2))"
      ],
      "metadata": {
        "colab": {
          "base_uri": "https://localhost:8080/"
        },
        "id": "MDED2fHYJUjK",
        "outputId": "146c2518-1524-4228-9bf4-3bb5cb00bac6"
      },
      "execution_count": null,
      "outputs": [
        {
          "output_type": "stream",
          "name": "stdout",
          "text": [
            "[[[ 0  1  2  3]\n",
            "  [ 4  5  6  7]\n",
            "  [ 8  9 10 11]]\n",
            "\n",
            " [[12 13 14 15]\n",
            "  [16 17 18 19]\n",
            "  [20 21 22 23]]\n",
            "\n",
            " [[24 25 26 27]\n",
            "  [28 29 30 31]\n",
            "  [32 33 34 35]]] \n",
            "\n",
            "[[ 0  5 10]\n",
            " [12 17 22]\n",
            " [24 29 34]]\n"
          ]
        }
      ]
    },
    {
      "cell_type": "code",
      "source": [
        "# Flatten a Matrix in Python using NumPy\n",
        "\n",
        "matrix = np.array([[5, 6],[4, 3]])\n",
        "\n",
        "matrix.flatten()"
      ],
      "metadata": {
        "colab": {
          "base_uri": "https://localhost:8080/"
        },
        "id": "BxLwho1lLUIr",
        "outputId": "210daa11-a4d8-4ff5-f49e-19899259e0a1"
      },
      "execution_count": null,
      "outputs": [
        {
          "output_type": "execute_result",
          "data": {
            "text/plain": [
              "array([5, 6, 4, 3])"
            ]
          },
          "metadata": {},
          "execution_count": 14
        }
      ]
    },
    {
      "cell_type": "code",
      "source": [
        "# Flatten a 2d numpy array into 1d array\n",
        "\n",
        "arr = np.array([[1, 2, 3],[4, 5, 6], [2, 4, 6]])\n",
        "\n",
        "arr.ravel()"
      ],
      "metadata": {
        "colab": {
          "base_uri": "https://localhost:8080/"
        },
        "id": "iXy9wkHvRt2W",
        "outputId": "06dac790-b0eb-4327-f942-0b35948cc274"
      },
      "execution_count": null,
      "outputs": [
        {
          "output_type": "execute_result",
          "data": {
            "text/plain": [
              "array([1, 2, 3, 4, 5, 6, 2, 4, 6])"
            ]
          },
          "metadata": {},
          "execution_count": 15
        }
      ]
    },
    {
      "cell_type": "code",
      "source": [
        "# Move axes of an array to new positions\n",
        "\n",
        "arr = np.zeros((2, 5, 3))\n",
        "\n",
        "print(np.moveaxis(arr, 0, -1).shape)\n",
        "print(np.moveaxis(arr, -1, 0).shape)"
      ],
      "metadata": {
        "colab": {
          "base_uri": "https://localhost:8080/"
        },
        "id": "TnCAUHRMTYIx",
        "outputId": "cef5fff2-e758-4bf8-c9da-28f0f40008a0"
      },
      "execution_count": null,
      "outputs": [
        {
          "output_type": "stream",
          "name": "stdout",
          "text": [
            "(5, 3, 2)\n",
            "(3, 2, 5)\n"
          ]
        }
      ]
    },
    {
      "cell_type": "code",
      "source": [
        "# Interchange two axes of an array\n",
        "\n",
        "arr = np.array([[2, 3, 7]])\n",
        "\n",
        "np.swapaxes(arr, 0, 1)"
      ],
      "metadata": {
        "colab": {
          "base_uri": "https://localhost:8080/"
        },
        "id": "76qoGdnsUV7H",
        "outputId": "f461df23-ab6a-4692-ae4e-aa0985db168b"
      },
      "execution_count": null,
      "outputs": [
        {
          "output_type": "execute_result",
          "data": {
            "text/plain": [
              "array([[2],\n",
              "       [3],\n",
              "       [7]])"
            ]
          },
          "metadata": {},
          "execution_count": 23
        }
      ]
    },
    {
      "cell_type": "code",
      "source": [
        "# NumPy – Fibonacci Series using Binet Formula\n",
        "\n",
        "arr = np.arange(1, 11)\n",
        "lenght = len(arr)\n",
        "\n",
        "sqrtFive = np.sqrt(5)\n",
        "alpha = (1 + sqrtFive) / 2\n",
        "beta = (1 - sqrtFive) / 2\n",
        "\n",
        "Fn = np.rint(((alpha ** arr) - (beta ** arr)) / (sqrtFive))\n",
        "print(\"First {} numbers: {}\".format(lenght, Fn))"
      ],
      "metadata": {
        "colab": {
          "base_uri": "https://localhost:8080/"
        },
        "id": "1F0vUYhXVup6",
        "outputId": "f7f3be0a-bc49-4a30-d2cb-33dbab20be7b"
      },
      "execution_count": null,
      "outputs": [
        {
          "output_type": "stream",
          "name": "stdout",
          "text": [
            "First 10 numbers: [ 1.  1.  2.  3.  5.  8. 13. 21. 34. 55.]\n"
          ]
        }
      ]
    },
    {
      "cell_type": "code",
      "source": [
        "# Counts the number of non-zero values in the array\n",
        "\n",
        "arr = np.array([[0, 6, 3, 7], [2, 0, 8, 0]])\n",
        "\n",
        "np.count_nonzero(arr)"
      ],
      "metadata": {
        "colab": {
          "base_uri": "https://localhost:8080/"
        },
        "id": "Nk_Vvm1dYfuw",
        "outputId": "48970b60-f8bf-477d-dd4f-5dbbefc86398"
      },
      "execution_count": null,
      "outputs": [
        {
          "output_type": "execute_result",
          "data": {
            "text/plain": [
              "5"
            ]
          },
          "metadata": {},
          "execution_count": 25
        }
      ]
    },
    {
      "cell_type": "code",
      "source": [
        "# Count the number of elements along a given axis\n",
        "\n",
        "arr = np.array([[1, 3, 4, 7], [1, 5, 8, 2], [6, 1, 5, 6]])\n",
        "\n",
        "print(np.size(arr))\n",
        "\n",
        "print(np.size(arr, 0))\n",
        "\n",
        "print(np.size(arr, 1))"
      ],
      "metadata": {
        "colab": {
          "base_uri": "https://localhost:8080/"
        },
        "id": "hNGjEPKoZzz2",
        "outputId": "03122863-f0e5-473c-9f14-354fac8ca679"
      },
      "execution_count": null,
      "outputs": [
        {
          "output_type": "stream",
          "name": "stdout",
          "text": [
            "12\n",
            "3\n",
            "4\n"
          ]
        }
      ]
    },
    {
      "cell_type": "code",
      "source": [
        "# Trim the leading and/or trailing zeros from a 1-D array\n",
        "\n",
        "arr = np.array((0, 0, 0, 12, 14, 16, 0, 25, 13, 28, 0, 19, 17, 0, 0))\n",
        "\n",
        "np.trim_zeros(arr) #argument 'f' - final zeros, 'b' - begin zeros"
      ],
      "metadata": {
        "colab": {
          "base_uri": "https://localhost:8080/"
        },
        "id": "OxtkH1cpuy3Z",
        "outputId": "0f52b846-dc06-40cd-975e-ef12caf95da5"
      },
      "execution_count": null,
      "outputs": [
        {
          "output_type": "execute_result",
          "data": {
            "text/plain": [
              "array([12, 14, 16,  0, 25, 13, 28,  0, 19, 17])"
            ]
          },
          "metadata": {},
          "execution_count": 30
        }
      ]
    },
    {
      "cell_type": "code",
      "source": [
        "# Change data type of given numpy array\n",
        "\n",
        "arr = np.array([11, 22, 33, 44])\n",
        "\n",
        "arr.astype('complex64')"
      ],
      "metadata": {
        "colab": {
          "base_uri": "https://localhost:8080/"
        },
        "id": "bPYjUnkRHxjr",
        "outputId": "8fc1d7fe-4056-4aaf-b04d-39721cb707e4"
      },
      "execution_count": null,
      "outputs": [
        {
          "output_type": "execute_result",
          "data": {
            "text/plain": [
              "array([11.+0.j, 22.+0.j, 33.+0.j, 44.+0.j], dtype=complex64)"
            ]
          },
          "metadata": {},
          "execution_count": 31
        }
      ]
    },
    {
      "cell_type": "code",
      "source": [
        "# Reverse a numpy array\n",
        "\n",
        "arr = np.array([11, 22, 33, 44])\n",
        "\n",
        "str(arr[::-1])"
      ],
      "metadata": {
        "colab": {
          "base_uri": "https://localhost:8080/",
          "height": 35
        },
        "id": "0ngyMCz8IUKw",
        "outputId": "cf2f6f68-d2de-49d1-f55c-897e1ab8031b"
      },
      "execution_count": null,
      "outputs": [
        {
          "output_type": "execute_result",
          "data": {
            "text/plain": [
              "'[44 33 22 11]'"
            ],
            "application/vnd.google.colaboratory.intrinsic+json": {
              "type": "string"
            }
          },
          "metadata": {},
          "execution_count": 33
        }
      ]
    },
    {
      "cell_type": "code",
      "source": [
        "# How to make a NumPy array read-only?\n",
        "\n",
        "arr = np.zeros(15)\n",
        "\n",
        "arr[3] = 5\n",
        "print(arr)\n",
        "\n",
        "arr.setflags(write=False)"
      ],
      "metadata": {
        "id": "tYLANnTYIiqI"
      },
      "execution_count": null,
      "outputs": []
    },
    {
      "cell_type": "markdown",
      "source": [
        "#Questions on NumPy Matrix\n",
        "\n"
      ],
      "metadata": {
        "id": "tNRYLg8OovIW"
      }
    },
    {
      "cell_type": "code",
      "source": [
        "# Get the maximum value from given matrix\n",
        "\n",
        "mtrx = np.matrix(np.arange(15).reshape((3, 5)))\n",
        "print(mtrx, \"\\n\")\n",
        "print(mtrx.max())"
      ],
      "metadata": {
        "id": "dKGwwNxYo2wf",
        "colab": {
          "base_uri": "https://localhost:8080/"
        },
        "outputId": "95cf4ff7-9054-489b-afe2-704e04eb89c4"
      },
      "execution_count": null,
      "outputs": [
        {
          "output_type": "stream",
          "name": "stdout",
          "text": [
            "[[ 0  1  2  3  4]\n",
            " [ 5  6  7  8  9]\n",
            " [10 11 12 13 14]] \n",
            "\n",
            "14\n"
          ]
        }
      ]
    },
    {
      "cell_type": "code",
      "source": [
        "# Get the minimum value from given matrix\n",
        "\n",
        "mtrx = -np.matrix(np.arange(15).reshape((3, 5)))\n",
        "print(mtrx, \"\\n\")\n",
        "print(mtrx.min())"
      ],
      "metadata": {
        "colab": {
          "base_uri": "https://localhost:8080/"
        },
        "id": "MN0kCGtrU-Fy",
        "outputId": "7e4c1619-2ad3-4c6f-f43c-a1aed0ba72e7"
      },
      "execution_count": null,
      "outputs": [
        {
          "output_type": "stream",
          "name": "stdout",
          "text": [
            "[[  0  -1  -2  -3  -4]\n",
            " [ -5  -6  -7  -8  -9]\n",
            " [-10 -11 -12 -13 -14]] \n",
            "\n",
            "-14\n"
          ]
        }
      ]
    },
    {
      "cell_type": "code",
      "source": [
        "# Find the number of rows and columns of a given matrix using NumPy\n",
        "\n",
        "mtrx = np.matrix(np.arange(1,7).reshape((2, 3)))\n",
        "print(mtrx, \"\\n\")\n",
        "print(mtrx.shape)"
      ],
      "metadata": {
        "colab": {
          "base_uri": "https://localhost:8080/"
        },
        "id": "mO0vDHnHVJaX",
        "outputId": "c7746d10-8f0c-4e9c-e1c7-c54c63bf26a5"
      },
      "execution_count": null,
      "outputs": [
        {
          "output_type": "stream",
          "name": "stdout",
          "text": [
            "[[1 2 3]\n",
            " [4 5 6]] \n",
            "\n",
            "(2, 3)\n"
          ]
        }
      ]
    },
    {
      "cell_type": "code",
      "source": [
        "# Select the elements from a given matrix\n",
        "\n",
        "mtrx = np.matrix('[5, 3, 7; 2, 4, 8; 1, 6, 9]')\n",
        "\n",
        "np.choose([1, 2, 1], mtrx)"
      ],
      "metadata": {
        "colab": {
          "base_uri": "https://localhost:8080/"
        },
        "id": "7kQPlbxGVxJ7",
        "outputId": "cc87650d-f54f-4fa1-82a6-44739eb75897"
      },
      "execution_count": null,
      "outputs": [
        {
          "output_type": "execute_result",
          "data": {
            "text/plain": [
              "array([[2, 6, 8]])"
            ]
          },
          "metadata": {},
          "execution_count": 21
        }
      ]
    },
    {
      "cell_type": "code",
      "source": [
        "# Find the sum of values in a matrix\n",
        "\n",
        "mtrx = np.matrix(np.arange(1,7).reshape((2, 3)))\n",
        "print(mtrx, \"\\n\")\n",
        "print(mtrx.sum())"
      ],
      "metadata": {
        "colab": {
          "base_uri": "https://localhost:8080/"
        },
        "id": "M6VNffCWWBiy",
        "outputId": "1c0dcc10-33fd-4abb-9c08-598acedb403e"
      },
      "execution_count": null,
      "outputs": [
        {
          "output_type": "stream",
          "name": "stdout",
          "text": [
            "[[1 2 3]\n",
            " [4 5 6]] \n",
            "\n",
            "21\n"
          ]
        }
      ]
    },
    {
      "cell_type": "code",
      "source": [
        "# Calculate the sum of the diagonal elements of a NumPy array\n",
        "\n",
        "arr = np.array([[5, 8, 6], [2, 1, 4], [7, 9, 3]])\n",
        "print(arr, \"\\n\")\n",
        "print(np.trace(arr))"
      ],
      "metadata": {
        "colab": {
          "base_uri": "https://localhost:8080/"
        },
        "id": "3VHKu4NWWyf_",
        "outputId": "5ffdcb45-ccd1-4ba2-f072-bbb1013b08f3"
      },
      "execution_count": null,
      "outputs": [
        {
          "output_type": "stream",
          "name": "stdout",
          "text": [
            "[[5 8 6]\n",
            " [2 1 4]\n",
            " [7 9 3]] \n",
            "\n",
            "9\n"
          ]
        }
      ]
    },
    {
      "cell_type": "code",
      "source": [
        "# Adding and Subtracting Matrices in Python\n",
        "\n",
        "arr_1 = np.array([[4, 3], [7, 1], [8, 9]])\n",
        "arr_2 = np.array([[2, 0], [5, 5], [6, 6]])\n",
        "\n",
        "print(arr_1,\"\\n\")\n",
        "print(arr_2,\"\\n\")\n",
        "\n",
        "print(np.add(arr_1, arr_2), \"\\n\") #Adding\n",
        "print(np.subtract(arr_1, arr_2)) #Subtracting"
      ],
      "metadata": {
        "colab": {
          "base_uri": "https://localhost:8080/"
        },
        "id": "g45CTn-FYDDR",
        "outputId": "7b0662c2-57e9-4022-946d-c4b7d5e58dc7"
      },
      "execution_count": null,
      "outputs": [
        {
          "output_type": "stream",
          "name": "stdout",
          "text": [
            "[[4 3]\n",
            " [7 1]\n",
            " [8 9]] \n",
            "\n",
            "[[2 0]\n",
            " [5 5]\n",
            " [6 6]] \n",
            "\n",
            "[[ 6  3]\n",
            " [12  6]\n",
            " [14 15]] \n",
            "\n",
            "[[ 2  3]\n",
            " [ 2 -4]\n",
            " [ 2  3]]\n"
          ]
        }
      ]
    },
    {
      "cell_type": "code",
      "source": [
        "# Ways to add row/columns in numpy array\n",
        "\n",
        "init_arr = np.array([[4, 3], [7, 1], [8, 9]])\n",
        "print(init_arr,\"\\n\")\n",
        "\n",
        "\n",
        "column_to_be_added = np.array([[3], [4], [1]])\n",
        "\n",
        "# add column with append\n",
        "arr_1 = np.append(init_arr, column_to_be_added, axis=1)\n",
        "print(arr_1,\"\\n\")\n",
        "\n",
        "# column with concatenate\n",
        "arr_2 = np.concatenate([init_arr, column_to_be_added], axis=1)\n",
        "print(arr_2,\"\\n\")\n",
        "\n",
        "\n",
        "row_to_be_added = np.array([6, 2])\n",
        "row_n = init_arr.shape[0] # last row\n",
        "\n",
        "# row with insert\n",
        "arr_3 = np.insert(init_arr, row_n,[row_to_be_added], axis=0)\n",
        "print(arr_3,\"\\n\")\n",
        "\n",
        "# row with vstack\n",
        "arr_4 = np.vstack((init_arr, row_to_be_added))\n",
        "print(arr_4,\"\\n\")"
      ],
      "metadata": {
        "colab": {
          "base_uri": "https://localhost:8080/"
        },
        "id": "KCanQAfPY-E4",
        "outputId": "528076a0-2b59-4b10-89c5-07ebf46f5d0a"
      },
      "execution_count": null,
      "outputs": [
        {
          "output_type": "stream",
          "name": "stdout",
          "text": [
            "[[4 3]\n",
            " [7 1]\n",
            " [8 9]] \n",
            "\n",
            "[[4 3 3]\n",
            " [7 1 4]\n",
            " [8 9 1]] \n",
            "\n",
            "[[4 3 3]\n",
            " [7 1 4]\n",
            " [8 9 1]] \n",
            "\n",
            "[[4 3]\n",
            " [7 1]\n",
            " [8 9]\n",
            " [6 2]] \n",
            "\n",
            "[[4 3]\n",
            " [7 1]\n",
            " [8 9]\n",
            " [6 2]] \n",
            "\n"
          ]
        }
      ]
    },
    {
      "cell_type": "code",
      "source": [
        "# Matrix Multiplication in NumPy\n",
        "\n",
        "arr_1 = np.array([[4, 3], [7, 1]])\n",
        "arr_2 = np.array([[2, 0], [5, 5]])\n",
        "\n",
        "print(\"product:\\n\",np.matmul(arr_1, arr_2),\"\\n\")\n",
        "print(\"element-wise matrix multiplication:\\n\",np.multiply(arr_1, arr_2),\"\\n\")"
      ],
      "metadata": {
        "colab": {
          "base_uri": "https://localhost:8080/"
        },
        "id": "Hhu0BQW5cYtv",
        "outputId": "f3ab70c8-94a8-434b-c817-6934daafa9fc"
      },
      "execution_count": null,
      "outputs": [
        {
          "output_type": "stream",
          "name": "stdout",
          "text": [
            "product:\n",
            " [[23 15]\n",
            " [19  5]] \n",
            "\n",
            "element-wise matrix multiplication:\n",
            " [[ 8  0]\n",
            " [35  5]] \n",
            "\n"
          ]
        }
      ]
    },
    {
      "cell_type": "code",
      "source": [
        "# Get the eigen values of a matrix\n",
        "\n",
        "mtrx = np.matrix([[4, 3], [6, 2]])\n",
        "\n",
        "w, v = np.linalg.eig(mtrx)\n",
        "\n",
        "print(\"Eigen values:\\n\",w,\"\\n\")\n",
        "print(\"Eigenvectors:\\n\",v,\"\\n\")"
      ],
      "metadata": {
        "colab": {
          "base_uri": "https://localhost:8080/"
        },
        "id": "BBVsEqPXdg9d",
        "outputId": "688c0ff1-e130-44b0-952d-5372abbd7b6b"
      },
      "execution_count": null,
      "outputs": [
        {
          "output_type": "stream",
          "name": "stdout",
          "text": [
            "Eigen values:\n",
            " [ 7.35889894 -1.35889894] \n",
            "\n",
            "Eigenvectors:\n",
            " [[ 0.66613722 -0.48848147]\n",
            " [ 0.7458292   0.87257427]] \n",
            "\n"
          ]
        }
      ]
    },
    {
      "cell_type": "code",
      "source": [
        "# How to Calculate the determinant of a matrix using NumPy?\n",
        "\n",
        "mtrx = np.matrix([[12, 9], [6, 8]])\n",
        "\n",
        "int(np.linalg.det(mtrx))"
      ],
      "metadata": {
        "colab": {
          "base_uri": "https://localhost:8080/"
        },
        "id": "UbyeCFwyeikW",
        "outputId": "906f93dd-7fe8-4a04-99a3-3d9f4db2a101"
      },
      "execution_count": null,
      "outputs": [
        {
          "output_type": "execute_result",
          "data": {
            "text/plain": [
              "42"
            ]
          },
          "metadata": {},
          "execution_count": 45
        }
      ]
    },
    {
      "cell_type": "code",
      "source": [
        "# How to inverse a matrix using NumPy\n",
        "\n",
        "mtrx = np.array([[[4, 3], [6, 2]], [[2, 3], [6, 5]]])\n",
        "\n",
        "np.linalg.inv(mtrx)"
      ],
      "metadata": {
        "colab": {
          "base_uri": "https://localhost:8080/"
        },
        "id": "DhuT53OCfYVv",
        "outputId": "188ab800-b0d8-4cb6-9b90-292685cc553a"
      },
      "execution_count": null,
      "outputs": [
        {
          "output_type": "execute_result",
          "data": {
            "text/plain": [
              "array([[[-0.2  ,  0.3  ],\n",
              "        [ 0.6  , -0.4  ]],\n",
              "\n",
              "       [[-0.625,  0.375],\n",
              "        [ 0.75 , -0.25 ]]])"
            ]
          },
          "metadata": {},
          "execution_count": 55
        }
      ]
    },
    {
      "cell_type": "code",
      "source": [
        "# How to count the frequency of unique values in NumPy array?\n",
        "\n",
        "arr = np.array([2, 2, 8, 9, 10, 10, 11, 12, 9, 3])\n",
        "\n",
        "unique, frequency = np.unique(arr, return_counts=True)\n",
        "\n",
        "print(\"Unique values: \", unique)\n",
        "print(\"Frequency values: \", frequency)"
      ],
      "metadata": {
        "colab": {
          "base_uri": "https://localhost:8080/"
        },
        "id": "m9hiYKHEhAYe",
        "outputId": "26d7dfe2-a386-4950-8a37-7604d9ccfa45"
      },
      "execution_count": null,
      "outputs": [
        {
          "output_type": "stream",
          "name": "stdout",
          "text": [
            "Unique values:  [ 2  3  8  9 10 11 12]\n",
            "Frequency values:  [2 1 1 2 2 1 1]\n"
          ]
        }
      ]
    },
    {
      "cell_type": "code",
      "source": [
        "# Multiply matrices of complex numbers using NumPy in Python\n",
        "\n",
        "arr_1 = np.array([3+8j, 6+5j])\n",
        "print(arr_1,\"\\n\")\n",
        "arr_2 = np.array([4+9j, 2+1j])\n",
        "print(arr_2,\"\\n\")\n",
        "\n",
        "product = np.vdot(arr_1, arr_2)\n",
        "print(product,\"\\n\")"
      ],
      "metadata": {
        "colab": {
          "base_uri": "https://localhost:8080/"
        },
        "id": "clEs1NfjhrrP",
        "outputId": "74150022-7e58-486a-f500-3b25b37828e0"
      },
      "execution_count": null,
      "outputs": [
        {
          "output_type": "stream",
          "name": "stdout",
          "text": [
            "[3.+8.j 6.+5.j] \n",
            "\n",
            "[4.+9.j 2.+1.j] \n",
            "\n",
            "(101-9j) \n",
            "\n"
          ]
        }
      ]
    },
    {
      "cell_type": "code",
      "source": [
        "# Compute the outer product of two given vectors using NumPy in Python\n",
        "\n",
        "arr_1 = np.array([4, 3])\n",
        "print(arr_1,\"\\n\")\n",
        "arr_2 = np.array([7, 1])\n",
        "print(arr_2,\"\\n\")\n",
        "\n",
        "product = np.outer(arr_1, arr_2)\n",
        "print(product,\"\\n\")"
      ],
      "metadata": {
        "colab": {
          "base_uri": "https://localhost:8080/"
        },
        "id": "HFfSadZBi6Kj",
        "outputId": "7a533db0-7ba0-4d88-f666-65fd252c0f38"
      },
      "execution_count": null,
      "outputs": [
        {
          "output_type": "stream",
          "name": "stdout",
          "text": [
            "[4 3] \n",
            "\n",
            "[7 1] \n",
            "\n",
            "[[28  4]\n",
            " [21  3]] \n",
            "\n"
          ]
        }
      ]
    },
    {
      "cell_type": "code",
      "source": [
        "# Calculate inner, outer, and cross products of matrices and vectors using NumPy\n",
        "\n",
        "arr_1 = np.array([4, 3])\n",
        "print(arr_1,\"\\n\")\n",
        "arr_2 = np.array([7, 1])\n",
        "print(arr_2,\"\\n\")\n",
        "\n",
        "print(\"Inner product of vectors: \")\n",
        "print(np.inner(arr_1, arr_2), \"\\n\")\n",
        "\n",
        "print(\"Outer product of vectors: \")\n",
        "print(np.outer(arr_1, arr_2), \"\\n\")\n",
        "\n",
        "print(\"Cross product of vectors: \")\n",
        "print(np.cross(arr_1, arr_2), \"\\n\")\n",
        "\n",
        "mtrx_1 = np.array([[3, 4, 1], [7, 9, 5]])\n",
        "print(mtrx_1,\"\\n\")\n",
        "mtrx_2 = np.array([[1, 2, 5], [3, 8, 6]])\n",
        "print(mtrx_2,\"\\n\")\n",
        "\n",
        "print(\"Inner product of matrices: \")\n",
        "print(np.inner(mtrx_1, mtrx_2), \"\\n\")\n",
        "\n",
        "print(\"Outer product of matrices: \")\n",
        "print(np.outer(mtrx_1, mtrx_2), \"\\n\")\n",
        "\n",
        "print(\"Cross product of matrices: \")\n",
        "print(np.cross(mtrx_1, mtrx_2), \"\\n\")"
      ],
      "metadata": {
        "colab": {
          "base_uri": "https://localhost:8080/"
        },
        "id": "OxcMSJeRjSWn",
        "outputId": "e1dc4b85-fa99-49bf-dd0a-60acd8affbd9"
      },
      "execution_count": null,
      "outputs": [
        {
          "output_type": "stream",
          "name": "stdout",
          "text": [
            "[4 3] \n",
            "\n",
            "[7 1] \n",
            "\n",
            "Inner product of vectors: \n",
            "31 \n",
            "\n",
            "Outer product of vectors: \n",
            "[[28  4]\n",
            " [21  3]] \n",
            "\n",
            "Cross product of vectors: \n",
            "-17 \n",
            "\n",
            "[[3 4 1]\n",
            " [7 9 5]] \n",
            "\n",
            "[[1 2 5]\n",
            " [3 8 6]] \n",
            "\n",
            "Inner product of matrices: \n",
            "[[ 16  47]\n",
            " [ 50 123]] \n",
            "\n",
            "Outer product of matrices: \n",
            "[[ 3  6 15  9 24 18]\n",
            " [ 4  8 20 12 32 24]\n",
            " [ 1  2  5  3  8  6]\n",
            " [ 7 14 35 21 56 42]\n",
            " [ 9 18 45 27 72 54]\n",
            " [ 5 10 25 15 40 30]] \n",
            "\n",
            "Cross product of matrices: \n",
            "[[ 18 -14   2]\n",
            " [ 14 -27  29]] \n",
            "\n"
          ]
        }
      ]
    },
    {
      "cell_type": "code",
      "source": [
        "# Compute the covariance matrix of two given NumPy arrays\n",
        "\n",
        "arr_1 = np.array([0, 2, 1])\n",
        "print(arr_1,\"\\n\")\n",
        "arr_2 = np.array([0, 1, 2])\n",
        "print(arr_2,\"\\n\")\n",
        "\n",
        "print(np.cov(arr_1, arr_2))"
      ],
      "metadata": {
        "colab": {
          "base_uri": "https://localhost:8080/"
        },
        "id": "k5jh29jdktjx",
        "outputId": "67f59c17-dbba-4ecf-a495-07f56a95ebaa"
      },
      "execution_count": null,
      "outputs": [
        {
          "output_type": "stream",
          "name": "stdout",
          "text": [
            "[0 2 1] \n",
            "\n",
            "[0 1 2] \n",
            "\n",
            "[[1.  0.5]\n",
            " [0.5 1. ]]\n"
          ]
        }
      ]
    },
    {
      "cell_type": "code",
      "source": [
        "# Convert covariance matrix to correlation matrix using Python\n",
        "\n",
        "arr_1 = np.array([0, 2, 1])\n",
        "print(arr_1,\"\\n\")\n",
        "arr_2 = np.array([0, 1, 2])\n",
        "print(arr_2,\"\\n\")\n",
        "\n",
        "cov_arr = np.cov(arr_1, arr_2)\n",
        "print(cov_arr, \"\\n\")\n",
        "\n",
        "np.corrcoef(cov_arr, rowvar=False)"
      ],
      "metadata": {
        "colab": {
          "base_uri": "https://localhost:8080/"
        },
        "id": "Ew2vqaf2lxOH",
        "outputId": "b3122841-f8f1-417f-9714-3e0e0eff2476"
      },
      "execution_count": null,
      "outputs": [
        {
          "output_type": "stream",
          "name": "stdout",
          "text": [
            "[0 2 1] \n",
            "\n",
            "[0 1 2] \n",
            "\n",
            "[[1.  0.5]\n",
            " [0.5 1. ]] \n",
            "\n"
          ]
        },
        {
          "output_type": "execute_result",
          "data": {
            "text/plain": [
              "array([[ 1., -1.],\n",
              "       [-1.,  1.]])"
            ]
          },
          "metadata": {},
          "execution_count": 74
        }
      ]
    },
    {
      "cell_type": "code",
      "source": [
        "# Compute the Kronecker product of two mulitdimension NumPy arrays\n",
        "\n",
        "arr_1 = np.array([[4, 3], [7, 1]])\n",
        "print(arr_1,\"\\n\")\n",
        "arr_2 = np.array([[2, 0], [5, 5]])\n",
        "print(arr_2,\"\\n\")\n",
        "\n",
        "np.kron(arr_1, arr_2)"
      ],
      "metadata": {
        "colab": {
          "base_uri": "https://localhost:8080/"
        },
        "id": "lm62QfB9ncvh",
        "outputId": "2af35375-43b2-4c8c-d478-afdc2c5d7d38"
      },
      "execution_count": null,
      "outputs": [
        {
          "output_type": "stream",
          "name": "stdout",
          "text": [
            "[[4 3]\n",
            " [7 1]] \n",
            "\n",
            "[[2 0]\n",
            " [5 5]] \n",
            "\n"
          ]
        },
        {
          "output_type": "execute_result",
          "data": {
            "text/plain": [
              "array([[ 8,  0,  6,  0],\n",
              "       [20, 20, 15, 15],\n",
              "       [14,  0,  2,  0],\n",
              "       [35, 35,  5,  5]])"
            ]
          },
          "metadata": {},
          "execution_count": 76
        }
      ]
    },
    {
      "cell_type": "code",
      "source": [
        "# Convert the matrix into a list\n",
        "\n",
        "mtrx = np.matrix(np.arange(9).reshape((3,3)))\n",
        "print(mtrx,\"\\n\")\n",
        "\n",
        "mtrx.tolist()"
      ],
      "metadata": {
        "colab": {
          "base_uri": "https://localhost:8080/"
        },
        "id": "DAWlgUxEms_C",
        "outputId": "ae111c57-e522-4522-b4f4-bbabba3bcb53"
      },
      "execution_count": null,
      "outputs": [
        {
          "output_type": "stream",
          "name": "stdout",
          "text": [
            "[[0 1 2]\n",
            " [3 4 5]\n",
            " [6 7 8]] \n",
            "\n"
          ]
        },
        {
          "output_type": "execute_result",
          "data": {
            "text/plain": [
              "[[0, 1, 2], [3, 4, 5], [6, 7, 8]]"
            ]
          },
          "metadata": {},
          "execution_count": 75
        }
      ]
    },
    {
      "cell_type": "markdown",
      "source": [
        "# Questions on NumPy Indexing\n"
      ],
      "metadata": {
        "id": "R-8Xg5panzIT"
      }
    },
    {
      "cell_type": "code",
      "source": [
        "# Replace NumPy array elements that doesn’t satisfy the given condition\n",
        "\n",
        "arr = np.array([68, 37, 28, 59])\n",
        "\n",
        "arr[arr > 40] = 30\n",
        "\n",
        "arr"
      ],
      "metadata": {
        "id": "INq8A1_2n2-X",
        "colab": {
          "base_uri": "https://localhost:8080/"
        },
        "outputId": "85c8a12b-ef67-481a-be8b-d61cbc02e70b"
      },
      "execution_count": null,
      "outputs": [
        {
          "output_type": "execute_result",
          "data": {
            "text/plain": [
              "array([30, 37, 28, 30])"
            ]
          },
          "metadata": {},
          "execution_count": 77
        }
      ]
    },
    {
      "cell_type": "code",
      "source": [
        "# Return the indices of elements where the given condition is satisfied\n",
        "\n",
        "arr = np.array([68, 37, 28, 59])\n",
        "\n",
        "arr[np.where(arr > 40)]"
      ],
      "metadata": {
        "colab": {
          "base_uri": "https://localhost:8080/"
        },
        "id": "GVujOIjI6I-0",
        "outputId": "c6b56ec3-2166-4c68-9460-540b8241bd2d"
      },
      "execution_count": null,
      "outputs": [
        {
          "output_type": "execute_result",
          "data": {
            "text/plain": [
              "array([68, 59])"
            ]
          },
          "metadata": {},
          "execution_count": 78
        }
      ]
    },
    {
      "cell_type": "code",
      "source": [
        "# Replace NaN values with average of columns\n",
        "\n",
        "arr = np.array([[68, np.nan, 28, 59], [np.nan, 32, np.nan, 14], [21, 54, 65, np.nan]])\n",
        "\n",
        "np.where(np.isnan(arr), np.ma.array(arr, mask = np.isnan(arr)).mean(axis = 0), arr)"
      ],
      "metadata": {
        "colab": {
          "base_uri": "https://localhost:8080/"
        },
        "id": "2GF1K4io6ii6",
        "outputId": "3a21c4e1-800f-442c-890e-db71acac4cf0"
      },
      "execution_count": null,
      "outputs": [
        {
          "output_type": "execute_result",
          "data": {
            "text/plain": [
              "array([[68. , 43. , 28. , 59. ],\n",
              "       [44.5, 32. , 46.5, 14. ],\n",
              "       [21. , 54. , 65. , 36.5]])"
            ]
          },
          "metadata": {},
          "execution_count": 82
        }
      ]
    },
    {
      "cell_type": "code",
      "source": [
        "# Replace negative value with zero in numpy array\n",
        "\n",
        "arr = np.array([12, -15, 27, -32])\n",
        "\n",
        "np.where(arr<0, 0, arr)"
      ],
      "metadata": {
        "colab": {
          "base_uri": "https://localhost:8080/"
        },
        "id": "enUvj1Co7kaZ",
        "outputId": "7ea2346d-f9f7-4012-c027-e1ff82c8dac9"
      },
      "execution_count": null,
      "outputs": [
        {
          "output_type": "execute_result",
          "data": {
            "text/plain": [
              "array([12,  0, 27,  0])"
            ]
          },
          "metadata": {},
          "execution_count": 83
        }
      ]
    },
    {
      "cell_type": "code",
      "source": [
        "# How to get values of an NumPy array at certain index positions?\n",
        "\n",
        "arr_1 = np.array([2, 4, 6, 8, 12])\n",
        "\n",
        "arr_2 = np.array([1, 3, 9])\n",
        "\n",
        "arr_1.put([0, 3], arr_2)\n",
        "\n",
        "arr_1"
      ],
      "metadata": {
        "colab": {
          "base_uri": "https://localhost:8080/"
        },
        "id": "4KKRHECN8CDA",
        "outputId": "1012a25c-69cc-463d-ff04-ecc7c1a63a19"
      },
      "execution_count": null,
      "outputs": [
        {
          "output_type": "execute_result",
          "data": {
            "text/plain": [
              "array([ 1,  4,  6,  3, 12])"
            ]
          },
          "metadata": {},
          "execution_count": 85
        }
      ]
    },
    {
      "cell_type": "code",
      "source": [
        "# Find indices of elements equal to zero in a NumPy array\n",
        "\n",
        "arr = np.array([0, 1, 0, 0, 0, 5, 3, 9, 0, 2, 7])\n",
        "print(arr,\"\\n\")\n",
        "\n",
        "print(np.where(arr == 0)[0])"
      ],
      "metadata": {
        "colab": {
          "base_uri": "https://localhost:8080/"
        },
        "id": "8a76U-g5fRtM",
        "outputId": "298f8abd-be1b-467e-ced3-cfaeb4401582"
      },
      "execution_count": null,
      "outputs": [
        {
          "output_type": "stream",
          "name": "stdout",
          "text": [
            "[0 1 0 0 0 5 3 9 0 2 7] \n",
            "\n",
            "[0 2 3 4 8]\n"
          ]
        }
      ]
    },
    {
      "cell_type": "code",
      "source": [
        "# How to Remove columns in Numpy array that contains non-numeric values?\n",
        "\n",
        "arr = np.array([[68, 22, 28, 59], [np.nan, 32, np.nan, 14], [21, 54, 65, 72]])\n",
        "print(arr,\"\\n\")\n",
        "\n",
        "new_arr = arr[~np.isnan(arr).any(axis=1)]\n",
        "print(new_arr)"
      ],
      "metadata": {
        "colab": {
          "base_uri": "https://localhost:8080/"
        },
        "id": "5QS-dXKiiC9v",
        "outputId": "602f9c08-2e7a-41c9-fa56-c36cb8724cd7"
      },
      "execution_count": null,
      "outputs": [
        {
          "output_type": "stream",
          "name": "stdout",
          "text": [
            "[[68. 22. 28. 59.]\n",
            " [nan 32. nan 14.]\n",
            " [21. 54. 65. 72.]] \n",
            "\n",
            "[[68. 22. 28. 59.]\n",
            " [21. 54. 65. 72.]]\n"
          ]
        }
      ]
    },
    {
      "cell_type": "code",
      "source": [
        "# How to access different rows of a multidimensional NumPy array?\n",
        "\n",
        "arr = np.array([[68, 22, 28, 59], [40, 5, 66, 7], \n",
        "                [12, 32, 25, 14], [21, 54, 65, 72]])\n",
        "print(arr,\"\\n\")\n",
        "\n",
        "res_arr = arr[[0,2]]\n",
        "print(\"\\nFirst and last row :\")\n",
        "print(res_arr)\n",
        "\n",
        "res_arr = arr[1]\n",
        "print(\"\\nMiddle row :\")\n",
        "print(res_arr)\n",
        "\n",
        "res_arr = arr[[1,2,3]]\n",
        "print(\"\\nLast three rows :\")\n",
        "print(res_arr)"
      ],
      "metadata": {
        "colab": {
          "base_uri": "https://localhost:8080/"
        },
        "id": "A1dEDkj3jnBN",
        "outputId": "10f65cdc-dadd-42db-f068-8e670c9b99f3"
      },
      "execution_count": null,
      "outputs": [
        {
          "output_type": "stream",
          "name": "stdout",
          "text": [
            "[[68 22 28 59]\n",
            " [40  5 66  7]\n",
            " [12 32 25 14]\n",
            " [21 54 65 72]] \n",
            "\n",
            "\n",
            "First and last row :\n",
            "[[68 22 28 59]\n",
            " [12 32 25 14]]\n",
            "\n",
            "Middle row :\n",
            "[40  5 66  7]\n",
            "\n",
            "Last three rows :\n",
            "[[40  5 66  7]\n",
            " [12 32 25 14]\n",
            " [21 54 65 72]]\n"
          ]
        }
      ]
    },
    {
      "cell_type": "code",
      "source": [
        "# Get row numbers of NumPy array having element larger than X\n",
        "\n",
        "arr = np.array([[1, 2, 3, 4, 2], [9, -3, 7, 4, 5],\n",
        "                  [3, 2, 5, -3, 5], [9, 7, 3, 6, 8] ])\n",
        "  \n",
        "X = 5\n",
        "  \n",
        "print(np.where(np.any(arr > X, axis = 1)))"
      ],
      "metadata": {
        "colab": {
          "base_uri": "https://localhost:8080/"
        },
        "id": "orXkMzsonvwF",
        "outputId": "12fba861-18ef-48ea-b993-c42aacf4a59f"
      },
      "execution_count": null,
      "outputs": [
        {
          "output_type": "stream",
          "name": "stdout",
          "text": [
            "(array([1, 3]),)\n"
          ]
        }
      ]
    },
    {
      "cell_type": "code",
      "source": [
        "# Get filled the diagonals of NumPy array\n",
        "\n",
        "arr = np.array([[1, 2], [2, 4], [3, 5]])\n",
        "np.fill_diagonal(arr, 5)\n",
        "print(arr)"
      ],
      "metadata": {
        "colab": {
          "base_uri": "https://localhost:8080/"
        },
        "id": "YqlUPHWRpJT4",
        "outputId": "d4ce40e3-b88e-4a1e-8a42-325f96e061b7"
      },
      "execution_count": null,
      "outputs": [
        {
          "output_type": "stream",
          "name": "stdout",
          "text": [
            "[[5 2]\n",
            " [2 5]\n",
            " [3 5]]\n"
          ]
        }
      ]
    },
    {
      "cell_type": "code",
      "source": [
        "# Check elements present in the NumPy array\n",
        "\n",
        "arr = np.array([[6, 1, 2], [5, 7, 9]])\n",
        "\n",
        "print(2 in arr)\n",
        "print(0 in arr)\n",
        "print(7 in arr)"
      ],
      "metadata": {
        "colab": {
          "base_uri": "https://localhost:8080/"
        },
        "id": "C6dph-qmpxbm",
        "outputId": "9178025e-512f-44da-b469-598a05197953"
      },
      "execution_count": null,
      "outputs": [
        {
          "output_type": "stream",
          "name": "stdout",
          "text": [
            "True\n",
            "False\n",
            "True\n"
          ]
        }
      ]
    },
    {
      "cell_type": "code",
      "source": [
        "# Combined array index by index\n",
        "\n",
        "arr = np.array([[1, 2, 3, 4, 2], [9, -3, 7, 4, 5],\n",
        "                  [3, 2, 5, -3, 5], [9, 7, 3, 6, 8] ])\n",
        "\n",
        "# get the rows and lines where the condition is satisfied\n",
        "i1 = np.where(arr>2)\n",
        "i2 = np.where(arr<5)\n",
        "\n",
        "# convert the multi-dim index into 1-dim index.\n",
        "ri1 = np.ravel_multi_index(i1, arr.shape)\n",
        "ri2 = np.ravel_multi_index(i2, arr.shape)\n",
        "\n",
        "# get the index that in both condition.\n",
        "ri = np.intersect1d(ri1, ri2)\n",
        "\n",
        "# convert the 1-dim index back to multi-dim index.\n",
        "i = np.unravel_index(ri, arr.shape)\n",
        "\n",
        "# used to see if two arrays are element-wise equal within a tolerance\n",
        "#np.allclose(a[idx], a[(a>2) & (a<6)])\n",
        "\n",
        "print(\"Result array: \", arr[i])"
      ],
      "metadata": {
        "id": "Huaurr3KqnxI",
        "colab": {
          "base_uri": "https://localhost:8080/"
        },
        "outputId": "6ea90840-348f-4da5-e76f-d9dd98b374eb"
      },
      "execution_count": null,
      "outputs": [
        {
          "output_type": "stream",
          "name": "stdout",
          "text": [
            "Result array:  [3 4 4 3 3]\n"
          ]
        }
      ]
    },
    {
      "cell_type": "markdown",
      "source": [
        "# Questions on NumPy Linear Algebra\n"
      ],
      "metadata": {
        "id": "8bOPJjHmDJ5Y"
      }
    },
    {
      "cell_type": "code",
      "source": [
        "# Find a matrix or vector norm using NumPy\n",
        "\n",
        "vector = np.arange(12)\n",
        "print(\"Vector: \",vector)\n",
        "vec_norm = np.linalg.norm(vector)\n",
        "print(\"\\nVector norm: \",vec_norm)\n",
        "\n",
        "mtrx = np.array([[5, 8, 6], [2, 1, 4]])\n",
        "print(\"\\nMatrix:\\n\", mtrx)\n",
        "mtrx_norm = np.linalg.norm(mtrx)\n",
        "print(\"\\nMatrix norm: \", mtrx_norm)"
      ],
      "metadata": {
        "colab": {
          "base_uri": "https://localhost:8080/"
        },
        "id": "yXwKd7gODMBd",
        "outputId": "ef9cce26-a811-4545-98e1-8783e395bbda"
      },
      "execution_count": null,
      "outputs": [
        {
          "output_type": "stream",
          "name": "stdout",
          "text": [
            "Vector:  [ 0  1  2  3  4  5  6  7  8  9 10 11]\n",
            "\n",
            "Vector norm:  22.494443758403985\n",
            "\n",
            "Matrix:\n",
            " [[5 8 6]\n",
            " [2 1 4]]\n",
            "\n",
            "Matrix norm:  12.083045973594572\n"
          ]
        }
      ]
    },
    {
      "cell_type": "code",
      "source": [
        "# Calculate the QR decomposition of a given matrix using NumPy\n",
        "\n",
        "mtrx = np.array([[5, 8, 6], [2, 1, 4]])\n",
        "print(\"\\nMatrix:\\n\", mtrx)\n",
        "\n",
        "q, r = np.linalg.qr(mtrx)\n",
        "print(\"\\nQ:\\n\", q)\n",
        "print(\"\\nR:\\n\", r)"
      ],
      "metadata": {
        "colab": {
          "base_uri": "https://localhost:8080/"
        },
        "id": "prwbJ9tjJ--2",
        "outputId": "060286d3-9f26-4ee8-e067-7bba82eab9a9"
      },
      "execution_count": null,
      "outputs": [
        {
          "output_type": "stream",
          "name": "stdout",
          "text": [
            "\n",
            "Matrix:\n",
            " [[5 8 6]\n",
            " [2 1 4]]\n",
            "\n",
            "Q:\n",
            " [[-0.92847669 -0.37139068]\n",
            " [-0.37139068  0.92847669]]\n",
            "\n",
            "R:\n",
            " [[-5.38516481 -7.7992042  -7.05642285]\n",
            " [ 0.         -2.04264872  1.48556271]]\n"
          ]
        }
      ]
    },
    {
      "cell_type": "code",
      "source": [
        "# Compute the condition number of a given matrix using NumPy\n",
        "\n",
        "mtrx = np.array([[5, 8, 6], [2, 1, 4]])\n",
        "print(\"\\nMatrix:\\n\", mtrx)\n",
        "\n",
        "condition = np.linalg.cond(mtrx)\n",
        "print(\"\\nQ:\\n\", condition)"
      ],
      "metadata": {
        "colab": {
          "base_uri": "https://localhost:8080/"
        },
        "id": "rfi5Gag_Kx5y",
        "outputId": "14d284b9-6f2a-4a35-9926-82d2b64a16e8"
      },
      "execution_count": null,
      "outputs": [
        {
          "output_type": "stream",
          "name": "stdout",
          "text": [
            "\n",
            "Matrix:\n",
            " [[5 8 6]\n",
            " [2 1 4]]\n",
            "\n",
            "Q:\n",
            " 4.765840093952399\n"
          ]
        }
      ]
    },
    {
      "cell_type": "code",
      "source": [
        "# Compute the eigenvalues and right eigenvectors of a given square array using NumPy?\n",
        "\n",
        "mtrx = np.array([[5, 8, 6], [2, 1, 4], [3, 0, 7]])\n",
        "print(\"Matrix:\\n\", mtrx)\n",
        "\n",
        "w, v = np.linalg.eig(mtrx)\n",
        "print(\"Eigen values:\\n\", w)\n",
        "print(\"Eigen vectors:\\n\", v)"
      ],
      "metadata": {
        "colab": {
          "base_uri": "https://localhost:8080/"
        },
        "id": "ouPJpyCNLTho",
        "outputId": "cebce7f3-7316-431f-eba9-e01f93beb0a1"
      },
      "execution_count": null,
      "outputs": [
        {
          "output_type": "stream",
          "name": "stdout",
          "text": [
            "Matrix:\n",
            " [[5 8 6]\n",
            " [2 1 4]\n",
            " [3 0 7]]\n",
            "Eigen values:\n",
            " [ 0.08392022 11.91607978  1.        ]\n",
            "Eigen vectors:\n",
            " [[-0.88673403  0.80637166 -0.88888889]\n",
            " [ 0.25642678  0.32805475  0.11111111]\n",
            " [ 0.38464017  0.49208213  0.44444444]]\n"
          ]
        }
      ]
    },
    {
      "cell_type": "code",
      "source": [
        "# Calculate the Euclidean distance using NumPy\n",
        "\n",
        "arr_1 = np.array([2, 4, 6])\n",
        "arr_2 = np.array([1, 3, 9])\n",
        "\n",
        "dist = np.linalg.norm(arr_1 - arr_2)\n",
        "print(dist)"
      ],
      "metadata": {
        "colab": {
          "base_uri": "https://localhost:8080/"
        },
        "id": "oIsB1P3BMUyJ",
        "outputId": "5a8385ec-3d44-4907-a52f-c84894066707"
      },
      "execution_count": null,
      "outputs": [
        {
          "output_type": "stream",
          "name": "stdout",
          "text": [
            "3.3166247903554\n"
          ]
        }
      ]
    },
    {
      "cell_type": "markdown",
      "source": [
        "# Questions on NumPy Random\n"
      ],
      "metadata": {
        "id": "nD_tteNGNFJw"
      }
    },
    {
      "cell_type": "code",
      "source": [
        "# Create a Numpy array with random values\n",
        "\n",
        "arr = np.empty([4,2], dtype=int)\n",
        "print(arr)"
      ],
      "metadata": {
        "colab": {
          "base_uri": "https://localhost:8080/"
        },
        "id": "JkHHx_JLNHnx",
        "outputId": "3e4260fb-a40b-4f52-9011-652a48208da6"
      },
      "execution_count": null,
      "outputs": [
        {
          "output_type": "stream",
          "name": "stdout",
          "text": [
            "[[    38475712 137438953586]\n",
            " [137438953533 481036337262]\n",
            " [433791696942 481036337261]\n",
            " [519691042932           16]]\n"
          ]
        }
      ]
    },
    {
      "cell_type": "code",
      "source": [
        "# How to choose elements from the list with different probability using NumPy?\n",
        "\n",
        "n_list = [1, 2, 4, 8, 16, 32]\n",
        "\n",
        "# choose index number-5rd element with 100% probability\n",
        "# with list size of 3\n",
        "number = np.random.choice(n_list, 3, p = [0, 0, 0, 0, 1, 0])\n",
        "print(number)\n",
        "\n",
        "# choose index number 2nd & 3rd element with  50%-50% probability and other\n",
        "# elements probability set to 0 using p parameter of the choice() method\n",
        "number = np.random.choice(n_list, 3, p = [0, 0, 0.5, 0.5, 0, 0])\n",
        "print(\"\\n\", number)"
      ],
      "metadata": {
        "colab": {
          "base_uri": "https://localhost:8080/"
        },
        "id": "aCQa-bvWN3U4",
        "outputId": "923c8f6f-8442-46b7-9068-29468d033458"
      },
      "execution_count": null,
      "outputs": [
        {
          "output_type": "stream",
          "name": "stdout",
          "text": [
            "[16 16 16]\n",
            "\n",
            " [4 4 8]\n"
          ]
        }
      ]
    },
    {
      "cell_type": "code",
      "source": [
        "# How to get weighted random choice in Python?\n",
        "\n",
        "from numpy.random import choice\n",
        "\n",
        "sampleList = [10, 20, 30, 40, 50]\n",
        "randomNumberList = choice(sampleList, 5, \n",
        "                          p=[0.05, 0.1, 0.15, 0.20, 0.5])\n",
        "  \n",
        "print(randomNumberList)"
      ],
      "metadata": {
        "colab": {
          "base_uri": "https://localhost:8080/"
        },
        "id": "hZRTNExpPUzM",
        "outputId": "ebc648be-3e00-4fc3-9a82-185eca6e71be"
      },
      "execution_count": null,
      "outputs": [
        {
          "output_type": "stream",
          "name": "stdout",
          "text": [
            "[40 50 40 50 50]\n"
          ]
        }
      ]
    },
    {
      "cell_type": "code",
      "source": [
        "# Generate Random Numbers From The Uniform Distribution using NumPy\n",
        "\n",
        "r = np.random.uniform(size=10)\n",
        "print(r)"
      ],
      "metadata": {
        "colab": {
          "base_uri": "https://localhost:8080/"
        },
        "id": "TR5ggSzMR8hG",
        "outputId": "2b0ca237-2f22-4d22-cc1b-f06f1372f2d4"
      },
      "execution_count": null,
      "outputs": [
        {
          "output_type": "stream",
          "name": "stdout",
          "text": [
            "[0.35569604 0.44506912 0.76340936 0.11863354 0.40061021 0.89148524\n",
            " 0.90305305 0.51367689 0.92179426 0.25015892]\n"
          ]
        }
      ]
    },
    {
      "cell_type": "code",
      "source": [
        "# Get Random Elements from geometric distribution\n",
        "\n",
        "r = np.random.geometric(0.25, 50)\n",
        "print(r)"
      ],
      "metadata": {
        "colab": {
          "base_uri": "https://localhost:8080/"
        },
        "id": "Y8LyMz8wSXnR",
        "outputId": "5e82d553-9d00-4538-e3b6-fe27452f62a1"
      },
      "execution_count": null,
      "outputs": [
        {
          "output_type": "stream",
          "name": "stdout",
          "text": [
            "[ 1  2  7  6  2  4  1  4 19  3  2  2  1  2  3  5  3  2  4  2  5 10  8  3\n",
            "  2  2  8  1  1  4  9  3  2 11  1  1  2  1  1  4  5  2  1  1  5  5  1  1\n",
            "  5  1]\n"
          ]
        }
      ]
    },
    {
      "cell_type": "code",
      "source": [
        "# Get Random elements from Laplace distribution\n",
        "\n",
        "r = np.random.laplace(1, 10, 50)\n",
        "print(r)"
      ],
      "metadata": {
        "colab": {
          "base_uri": "https://localhost:8080/"
        },
        "id": "4InAjmhmTP3W",
        "outputId": "383de84b-2e4e-4442-b902-10ec499b006d"
      },
      "execution_count": null,
      "outputs": [
        {
          "output_type": "stream",
          "name": "stdout",
          "text": [
            "[  1.3398558   -0.56224596  -4.19599586  15.64829054   7.02438872\n",
            "  -1.29759942 -17.16135878 -21.34851716  -0.48776809   2.53595498\n",
            "  23.57204387  -0.04626399   7.85290664   2.34209771  -6.56826368\n",
            "   8.24399036  -0.60077269  -2.92595508  -6.95371152 -31.27192881\n",
            "  -0.34823476   6.94689088 -18.98209682 -10.93099943  -1.91768872\n",
            "  -0.66553175  -0.43274143   0.65855999  -0.05946158   7.76502618\n",
            "  13.53075078   5.72535674  20.65236267  -3.6612693   -1.61160322\n",
            "  36.77156088  -7.89515928  -0.16536711   2.90868721  -9.08746187\n",
            "   7.36593417  12.11384464 -30.31983168  12.74552076  21.73919433\n",
            "   2.98935182   0.7716451  -13.2033126    2.66515063  35.57650692]\n"
          ]
        }
      ]
    },
    {
      "cell_type": "code",
      "source": [
        "# Return a Matrix of random values from a uniform distribution\n",
        "\n",
        "import numpy.matlib\n",
        "\n",
        "mtrx = np.matlib.rand((5, 3))\n",
        "print(mtrx)"
      ],
      "metadata": {
        "colab": {
          "base_uri": "https://localhost:8080/"
        },
        "id": "5Dwyi0nlTiZO",
        "outputId": "d60cc04f-4ce1-4b4e-cc87-d6cc3e9a2809"
      },
      "execution_count": null,
      "outputs": [
        {
          "output_type": "stream",
          "name": "stdout",
          "text": [
            "[[0.2689657  0.87002425 0.91264169]\n",
            " [0.90684899 0.09548319 0.54038405]\n",
            " [0.40943844 0.83591475 0.9822174 ]\n",
            " [0.59239526 0.29189428 0.79069253]\n",
            " [0.66499597 0.10343048 0.94498395]]\n"
          ]
        }
      ]
    },
    {
      "cell_type": "code",
      "source": [
        "# Return a Matrix of random values from a Gaussian distribution\n",
        "\n",
        "mtrx = np.random.normal(0.0, 1.0, (5, 3))\n",
        "print(mtrx)"
      ],
      "metadata": {
        "colab": {
          "base_uri": "https://localhost:8080/"
        },
        "id": "Fa2HW3GIUS4m",
        "outputId": "bd05c96e-d072-46bd-bf22-9577e421a2db"
      },
      "execution_count": null,
      "outputs": [
        {
          "output_type": "stream",
          "name": "stdout",
          "text": [
            "[[ 2.00428586 -2.04936278 -0.48921213]\n",
            " [ 0.89662812 -0.09074699  1.38588268]\n",
            " [ 0.41406043 -0.51712101 -0.84303127]\n",
            " [-0.18737258  0.78529532 -0.16109107]\n",
            " [ 0.50149162 -1.72729549 -0.39957675]]\n"
          ]
        }
      ]
    },
    {
      "cell_type": "markdown",
      "source": [
        "# Questions on NumPy Sorting and Searching\n"
      ],
      "metadata": {
        "id": "ot2kCihuUpHi"
      }
    },
    {
      "cell_type": "code",
      "source": [
        "# How to get the indices of the sorted array using NumPy in Python?\n",
        "\n",
        "arr = np.array([13, 24, 58, 12, 9, 5, 35, 9, 77, 2, 61])\n",
        "print(arr,\"\\n\")\n",
        "\n",
        "indices = np.argsort(arr)\n",
        "print(indices)"
      ],
      "metadata": {
        "colab": {
          "base_uri": "https://localhost:8080/"
        },
        "id": "3wPHJcjwUp4x",
        "outputId": "61b3cb9f-deab-4906-d445-927b155cdb27"
      },
      "execution_count": null,
      "outputs": [
        {
          "output_type": "stream",
          "name": "stdout",
          "text": [
            "[13 24 58 12  9  5 35  9 77  2 61] \n",
            "\n",
            "[ 9  5  4  7  3  0  1  6  2 10  8]\n"
          ]
        }
      ]
    },
    {
      "cell_type": "code",
      "source": [
        "# Finding the k smallest values of a NumPy array\n",
        "\n",
        "arr = np.array([13, 24, 18, 12, 9, 5, 35, 7])\n",
        "print(arr,\"\\n\")\n",
        "\n",
        "k = 5\n",
        "  \n",
        "# sorting the array\n",
        "arr_1 = np.sort(arr)\n",
        "  \n",
        "# k smallest number of array\n",
        "print(k, \"smallest elements of the array\")\n",
        "print(arr_1[:k])"
      ],
      "metadata": {
        "colab": {
          "base_uri": "https://localhost:8080/"
        },
        "id": "00eYhmUGVeMM",
        "outputId": "2b38fe98-af80-43fb-9a76-9c4c1b93b08d"
      },
      "execution_count": null,
      "outputs": [
        {
          "output_type": "stream",
          "name": "stdout",
          "text": [
            "[13 24 18 12  9  5 35  7] \n",
            "\n",
            "5 smallest elements of the array\n",
            "[ 5  7  9 12 13]\n"
          ]
        }
      ]
    },
    {
      "cell_type": "code",
      "source": [
        "# How to get the n-largest values of an array using NumPy?\n",
        "\n",
        "arr = np.array([13, 24, 18, 12, 9, 5, 35, 7])\n",
        "print(arr,\"\\n\")\n",
        "\n",
        "# np.argsort() return\n",
        "# array of indices for\n",
        "# sorted array\n",
        "sorted_index_array = np.argsort(arr)\n",
        "  \n",
        "# sorted array\n",
        "sorted_array = arr[sorted_index_array]\n",
        "  \n",
        "print(\"Sorted array:\", sorted_array)\n",
        "\n",
        "n = 2\n",
        "\n",
        "# take n largest value\n",
        "result = sorted_array[-n : ]\n",
        "  \n",
        "# show the output\n",
        "print(\"{} largest value:\".format(n),\n",
        "      result[0])"
      ],
      "metadata": {
        "colab": {
          "base_uri": "https://localhost:8080/"
        },
        "id": "NT_VET0yV8u6",
        "outputId": "525ee722-f949-4873-a800-d6d5c17a3699"
      },
      "execution_count": null,
      "outputs": [
        {
          "output_type": "stream",
          "name": "stdout",
          "text": [
            "[13 24 18 12  9  5 35  7] \n",
            "\n",
            "Sorted array: [ 5  7  9 12 13 18 24 35]\n",
            "2 largest value: 24\n"
          ]
        }
      ]
    },
    {
      "cell_type": "code",
      "source": [
        "# Sort the values in a matrix\n",
        "\n",
        "mtrx = np.matrix([[4, 3], [7, 1], [8, 9]])\n",
        "\n",
        "mtrx.sort(axis=1)\n",
        "\n",
        "print(mtrx)"
      ],
      "metadata": {
        "id": "Hi6BJItcWd4B",
        "colab": {
          "base_uri": "https://localhost:8080/"
        },
        "outputId": "ebd8d3d4-0b0c-4fb5-b1bc-6edff897367c"
      },
      "execution_count": null,
      "outputs": [
        {
          "output_type": "stream",
          "name": "stdout",
          "text": [
            "[[3 4]\n",
            " [1 7]\n",
            " [8 9]]\n"
          ]
        }
      ]
    },
    {
      "cell_type": "code",
      "source": [
        "# Filter out integers from float numpy array\n",
        "\n",
        "arr = np.array([3.0, 5.2, 1.4, 8.0, 3.3, 2.0])\n",
        "print (\"initial array: \", str(arr))\n",
        " \n",
        "# filtering integers\n",
        "result = arr[arr != arr.astype(int)]\n",
        "print (\"final array: \", result)"
      ],
      "metadata": {
        "colab": {
          "base_uri": "https://localhost:8080/"
        },
        "id": "hv4EZac-Xur2",
        "outputId": "bc58730c-4051-4547-dac8-525cf67f84d4"
      },
      "execution_count": null,
      "outputs": [
        {
          "output_type": "stream",
          "name": "stdout",
          "text": [
            "initial array:  [3.  5.2 1.4 8.  3.3 2. ]\n",
            "final array:  [5.2 1.4 3.3]\n"
          ]
        }
      ]
    },
    {
      "cell_type": "code",
      "source": [
        "# Find the indices into a sorted array\n",
        "\n",
        "arr = np.array([2, 4, 1, 7, 3])\n",
        "print(arr)\n",
        "  \n",
        "indices = np.argsort(arr)\n",
        "print(indices)"
      ],
      "metadata": {
        "colab": {
          "base_uri": "https://localhost:8080/"
        },
        "id": "Dlq3SKziYV0s",
        "outputId": "10060c01-5937-47cb-cc86-4a15fa76904d"
      },
      "execution_count": null,
      "outputs": [
        {
          "output_type": "stream",
          "name": "stdout",
          "text": [
            "[2 4 1 7 3]\n",
            "[2 0 4 1 3]\n"
          ]
        }
      ]
    },
    {
      "cell_type": "markdown",
      "source": [
        "# Questions on NumPy Mathematics\n"
      ],
      "metadata": {
        "id": "puja2NvVaqUs"
      }
    },
    {
      "cell_type": "code",
      "source": [
        "# How to get element-wise true division of an array using Numpy?\n",
        "\n",
        "arr = np.arange(10)\n",
        "print(arr)\n",
        "\n",
        "result = np.true_divide(arr, 4)\n",
        "print(\"\\nElement-wise true division:\\n\",result)"
      ],
      "metadata": {
        "colab": {
          "base_uri": "https://localhost:8080/"
        },
        "id": "DPYXRSKsateN",
        "outputId": "59c54f87-b712-4b45-f8e0-28ef3b71b215"
      },
      "execution_count": null,
      "outputs": [
        {
          "output_type": "stream",
          "name": "stdout",
          "text": [
            "[0 1 2 3 4 5 6 7 8 9]\n",
            "\n",
            "Element-wise true division:\n",
            " [0.   0.25 0.5  0.75 1.   1.25 1.5  1.75 2.   2.25]\n"
          ]
        }
      ]
    },
    {
      "cell_type": "code",
      "source": [
        "# How to calculate the element-wise absolute value of NumPy array?\n",
        "\n",
        "arr = np.array([[-2, -7, 4], [1, -3, 5], [-8, -9, 0]])\n",
        "print(arr)\n",
        "\n",
        "result = np.absolute(arr)\n",
        "print(\"\\nAbsolute array:\\n\",result)"
      ],
      "metadata": {
        "colab": {
          "base_uri": "https://localhost:8080/"
        },
        "id": "6MqZavKtbWPj",
        "outputId": "dd410efb-c1db-4df9-83d0-79f3081a5834"
      },
      "execution_count": null,
      "outputs": [
        {
          "output_type": "stream",
          "name": "stdout",
          "text": [
            "[[-2 -7  4]\n",
            " [ 1 -3  5]\n",
            " [-8 -9  0]]\n",
            "\n",
            "Absolute array:\n",
            " [[2 7 4]\n",
            " [1 3 5]\n",
            " [8 9 0]]\n"
          ]
        }
      ]
    },
    {
      "cell_type": "code",
      "source": [
        "# Compute the negative of the NumPy array\n",
        "\n",
        "arr = np.array([[2, 1, 4], [7, -3, 5], [-8, 6, 9]])\n",
        "print(arr)\n",
        "\n",
        "result = np.negative(arr)\n",
        "print(\"\\nNegative array:\\n\",result)"
      ],
      "metadata": {
        "colab": {
          "base_uri": "https://localhost:8080/"
        },
        "id": "19zLPG2gcGJ_",
        "outputId": "b35ea233-3f34-4950-8117-b02c5bc514d4"
      },
      "execution_count": null,
      "outputs": [
        {
          "output_type": "stream",
          "name": "stdout",
          "text": [
            "[[ 2  1  4]\n",
            " [ 7 -3  5]\n",
            " [-8  6  9]]\n",
            "\n",
            "Negative array:\n",
            " [[-2 -1 -4]\n",
            " [-7  3 -5]\n",
            " [ 8 -6 -9]]\n"
          ]
        }
      ]
    },
    {
      "cell_type": "code",
      "source": [
        "# Multiply 2d numpy array corresponding to 1d array\n",
        "\n",
        "arr_1 = np.array([[3, 2, 1], [0, 4, 7], [1, 6, 2]])\n",
        "arr_2 = np.array([2, 1, 4])\n",
        "\n",
        "result = arr_1 * arr_2[:, np.newaxis]\n",
        "print(result)"
      ],
      "metadata": {
        "colab": {
          "base_uri": "https://localhost:8080/"
        },
        "id": "Xskw0E63cKmw",
        "outputId": "3e20513d-107d-4ada-a95c-1735b0e97cdb"
      },
      "execution_count": null,
      "outputs": [
        {
          "output_type": "stream",
          "name": "stdout",
          "text": [
            "[[ 6  4  2]\n",
            " [ 0  4  7]\n",
            " [ 4 24  8]]\n"
          ]
        }
      ]
    },
    {
      "cell_type": "code",
      "source": [
        "# Computes the inner product of two arrays\n",
        "\n",
        "arr_1 = np.array([3, 5, 7])\n",
        "arr_2 = np.array([8, 2, 4])\n",
        "\n",
        "result = np.inner(arr_1, arr_2)\n",
        "print(result)"
      ],
      "metadata": {
        "colab": {
          "base_uri": "https://localhost:8080/"
        },
        "id": "dSC9lZb-eFFp",
        "outputId": "c9e6715f-712a-4f4c-a689-c35bcd11b62b"
      },
      "execution_count": null,
      "outputs": [
        {
          "output_type": "stream",
          "name": "stdout",
          "text": [
            "62\n"
          ]
        }
      ]
    },
    {
      "cell_type": "code",
      "source": [
        "# Compute the nth percentile of the NumPy array\n",
        "\n",
        "arr = np.array([[5, 8, 6], [2, 1, 4], [7, 8, 9]])\n",
        "\n",
        "n = 50\n",
        "\n",
        "print(\"{}th percentile of arr, axis=None: \".format(n), np.percentile(arr, n))\n",
        "print(\"{}th percentile of arr, axis=0: \".format(n), np.percentile(arr, n, axis=0))\n",
        "print(\"{}th percentile of arr, axis=0: \".format(n), np.percentile(arr, n, axis=1))"
      ],
      "metadata": {
        "colab": {
          "base_uri": "https://localhost:8080/"
        },
        "id": "yyrVlFETe5l2",
        "outputId": "121f686a-275c-40ce-f760-0dec5eb07e68"
      },
      "execution_count": null,
      "outputs": [
        {
          "output_type": "stream",
          "name": "stdout",
          "text": [
            "50th percentile of arr, axis=None:  6.0\n",
            "50th percentile of arr, axis=0:  [5. 8. 6.]\n",
            "50th percentile of arr, axis=0:  [6. 2. 8.]\n"
          ]
        }
      ]
    },
    {
      "cell_type": "code",
      "source": [
        "# Calculate the n-th order discrete difference along the given axis\n",
        "\n",
        "arr = np.array([[2, 3, 9], [5, 0, 4]])\n",
        "\n",
        "print(\"Input array:\\n\", arr)\n",
        "print(\"First order difference:\\n\", np.diff(arr))\n",
        "print(\"Second order difference:\\n\", np.diff(arr, n = 2))\n",
        "print(\"Difference when axis is 0:\\n\", np.diff(arr, axis = 0))\n",
        "print(\"Difference when axis is 1:\\n\", np.diff(arr, axis = 1))"
      ],
      "metadata": {
        "colab": {
          "base_uri": "https://localhost:8080/"
        },
        "id": "jwBWl2q1f7RD",
        "outputId": "db36a804-5be4-40fc-ab04-033cc618f0c0"
      },
      "execution_count": null,
      "outputs": [
        {
          "output_type": "stream",
          "name": "stdout",
          "text": [
            "Input array:\n",
            " [[2 3 9]\n",
            " [5 0 4]]\n",
            "First order difference:\n",
            " [[ 1  6]\n",
            " [-5  4]]\n",
            "Second order difference:\n",
            " [[5]\n",
            " [9]]\n",
            "Difference when axis is 0:\n",
            " [[ 3 -3 -5]]\n",
            "Difference when axis is 1:\n",
            " [[ 1  6]\n",
            " [-5  4]]\n"
          ]
        }
      ]
    },
    {
      "cell_type": "code",
      "source": [
        "# Calculate the sum of all columns in a 2D NumPy array\n",
        "\n",
        "arr = np.array([[5, 8, 6], [2, 1, 4], [7, 8, 9], [4, 5, 6]])\n",
        "\n",
        "print(np.sum(arr, axis=0))"
      ],
      "metadata": {
        "colab": {
          "base_uri": "https://localhost:8080/"
        },
        "id": "8TAkSQoFhPtf",
        "outputId": "2fc5fdcb-6dd9-40a8-d311-734c3cafa519"
      },
      "execution_count": null,
      "outputs": [
        {
          "output_type": "stream",
          "name": "stdout",
          "text": [
            "[18 22 25]\n"
          ]
        }
      ]
    },
    {
      "cell_type": "code",
      "source": [
        "# Calculate average values of two given NumPy arrays\n",
        "\n",
        "arr_1 = np.array([[3, 5, 7], [2, 1, 4]])\n",
        "arr_2 = np.array([[8, 2, 4], [6, 9, 5]])\n",
        "  \n",
        "avg = (arr_1 + arr_2) / 2\n",
        "print(\"Average:\\n\", avg)"
      ],
      "metadata": {
        "colab": {
          "base_uri": "https://localhost:8080/"
        },
        "id": "wV09yl7fhoEk",
        "outputId": "3ae88e83-ddac-4e8d-c21d-f5db71001ed4"
      },
      "execution_count": null,
      "outputs": [
        {
          "output_type": "stream",
          "name": "stdout",
          "text": [
            "Average:\n",
            " [[5.5 3.5 5.5]\n",
            " [4.  5.  4.5]]\n"
          ]
        }
      ]
    },
    {
      "cell_type": "code",
      "source": [
        "# How to compute numerical negative value for all elements in a given NumPy array?\n",
        "\n",
        "arr = np.array([2, -1, 4, 7, -3, 5])\n",
        "print(arr)\n",
        "\n",
        "result = np.negative(arr)\n",
        "print(\"\\nNegative array:\\n\",result)"
      ],
      "metadata": {
        "colab": {
          "base_uri": "https://localhost:8080/"
        },
        "id": "iFhuUvwvi2b0",
        "outputId": "7befe7d5-6de2-4057-bbab-a3995a77c8e7"
      },
      "execution_count": null,
      "outputs": [
        {
          "output_type": "stream",
          "name": "stdout",
          "text": [
            "[ 2 -1  4  7 -3  5]\n",
            "\n",
            "Negative array:\n",
            " [-2  1 -4 -7  3 -5]\n"
          ]
        }
      ]
    },
    {
      "cell_type": "code",
      "source": [
        "# How to get the floor, ceiling and truncated values of the elements of a numpy array?\n",
        "\n",
        "arr = np.array([3.5, -5.8, 7.6, 2., -1.3, 4.5])\n",
        "\n",
        "print(arr)\n",
        "  \n",
        "floor_values = np.floor(arr)\n",
        "print(\"\\nFloor values : \\n\", floor_values)\n",
        "  \n",
        "ceil_values = np.ceil(arr)\n",
        "print(\"\\nCeil values : \\n\", ceil_values)\n",
        "  \n",
        "trunc_values = np.trunc(arr)\n",
        "print(\"\\nTruncated values : \\n\", trunc_values)"
      ],
      "metadata": {
        "colab": {
          "base_uri": "https://localhost:8080/"
        },
        "id": "5FG--oITjkFn",
        "outputId": "02f97e86-308b-4903-c717-62942adbe148"
      },
      "execution_count": null,
      "outputs": [
        {
          "output_type": "stream",
          "name": "stdout",
          "text": [
            "[ 3.5 -5.8  7.6  2.  -1.3  4.5]\n",
            "\n",
            "Floor values : \n",
            " [ 3. -6.  7.  2. -2.  4.]\n",
            "\n",
            "Ceil values : \n",
            " [ 4. -5.  8.  2. -1.  5.]\n",
            "\n",
            "Truncated values : \n",
            " [ 3. -5.  7.  2. -1.  4.]\n"
          ]
        }
      ]
    },
    {
      "cell_type": "code",
      "source": [
        "# How to round elements of the NumPy array to the nearest integer?\n",
        "\n",
        "arr = np.array([0.2, 0.3, 0.4, 0.5, 0.6, 0.7, 0.8, 0.9])\n",
        "print(\"Original array: \", arr)\n",
        "\n",
        "new_arr = np.rint(arr)\n",
        "print(\"After rounding: \", new_arr)"
      ],
      "metadata": {
        "colab": {
          "base_uri": "https://localhost:8080/"
        },
        "id": "QZKf8Nv9E1WU",
        "outputId": "0055d2d2-0fe0-4ab4-c947-d712d771ce68"
      },
      "execution_count": null,
      "outputs": [
        {
          "output_type": "stream",
          "name": "stdout",
          "text": [
            "Original array:  [0.2 0.3 0.4 0.5 0.6 0.7 0.8 0.9]\n",
            "After rounding:  [0. 0. 0. 0. 1. 1. 1. 1.]\n"
          ]
        }
      ]
    },
    {
      "cell_type": "code",
      "source": [
        "# Find the round off the values of the given matrix\n",
        "\n",
        "mtrx = np.matrix('[1.3, 2.2; 3.5, 4.7; 6.3, 9.8]')\n",
        "\n",
        "new_mtrx = np.round(mtrx)\n",
        "print(new_mtrx)"
      ],
      "metadata": {
        "colab": {
          "base_uri": "https://localhost:8080/"
        },
        "id": "ckikFapUF_rj",
        "outputId": "d9411aa1-05f4-4c59-9089-ffe17a44293f"
      },
      "execution_count": null,
      "outputs": [
        {
          "output_type": "stream",
          "name": "stdout",
          "text": [
            "[[ 1.  2.]\n",
            " [ 4.  5.]\n",
            " [ 6. 10.]]\n"
          ]
        }
      ]
    },
    {
      "cell_type": "code",
      "source": [
        "# Determine the positive square-root of an array\n",
        "\n",
        "arr = np.array([[5, 4, 9, 2, 16, 52]])\n",
        "\n",
        "new_arr = np.sqrt(arr)\n",
        "print(arr)"
      ],
      "metadata": {
        "colab": {
          "base_uri": "https://localhost:8080/"
        },
        "id": "VPbz-wi9GxrW",
        "outputId": "5cd6fcd1-4acf-467b-ebf3-3b3080116cff"
      },
      "execution_count": null,
      "outputs": [
        {
          "output_type": "stream",
          "name": "stdout",
          "text": [
            "[[ 5  4  9  2 16 52]]\n"
          ]
        }
      ]
    },
    {
      "cell_type": "code",
      "source": [
        "# Evaluate Einstein’s summation convention of two multidimensional NumPy arrays\n",
        "\n",
        "array_1 = np.array([[3, 5, 7], [2, 1, 4], [7, 8, 0]])\n",
        "array_2 = np.array([[8, 2, 4], [6, 9, 5], [3, 2, 2]])\n",
        "\n",
        "result = np.einsum(\"mk,kn\", array_1, array_2)\n",
        "print(\"Einstein’s summation convention of the two matrix/arrays:\")\n",
        "print(result)"
      ],
      "metadata": {
        "colab": {
          "base_uri": "https://localhost:8080/"
        },
        "id": "LFU55iFUHLO0",
        "outputId": "5daa8d6e-2761-4d64-8898-b9bd9a196b86"
      },
      "execution_count": null,
      "outputs": [
        {
          "output_type": "stream",
          "name": "stdout",
          "text": [
            "Einstein’s summation convention of the two matrix/arrays:\n",
            "[[ 75  65  51]\n",
            " [ 34  21  21]\n",
            " [104  86  68]]\n"
          ]
        }
      ]
    },
    {
      "cell_type": "markdown",
      "source": [
        "# Questions on NumPy Statistics\n"
      ],
      "metadata": {
        "id": "CNkaw_5bH-Bx"
      }
    },
    {
      "cell_type": "code",
      "source": [
        "# Compute the median of the flattened NumPy array\n",
        "\n",
        "arr = np.array([[2, 4, 8, 16, 32, 64]])\n",
        "\n",
        "median = np.median(arr)\n",
        "print(median)"
      ],
      "metadata": {
        "colab": {
          "base_uri": "https://localhost:8080/"
        },
        "id": "OLeBj3baIJ4y",
        "outputId": "7d77ee5a-b745-4610-a2a6-d3018ea229e9"
      },
      "execution_count": null,
      "outputs": [
        {
          "output_type": "stream",
          "name": "stdout",
          "text": [
            "12.0\n"
          ]
        }
      ]
    },
    {
      "cell_type": "code",
      "source": [
        "# Find Mean of a List of Numpy Array\n",
        "\n",
        "Input = [np.array([2, 2, 3]),\n",
        "         np.array([4, 5, 7]),\n",
        "         np.array([6, 8, 9])]\n",
        "  \n",
        "Output = []\n",
        "  \n",
        "# using np.mean()\n",
        "for i in range(len(Input)):\n",
        "   Output.append(np.mean(Input[i]))\n",
        "  \n",
        "print(Output)"
      ],
      "metadata": {
        "colab": {
          "base_uri": "https://localhost:8080/"
        },
        "id": "lVDLXTyvKuBY",
        "outputId": "f3405263-1faf-431b-f224-ef6debc65f2e"
      },
      "execution_count": null,
      "outputs": [
        {
          "output_type": "stream",
          "name": "stdout",
          "text": [
            "[2.3333333333333335, 5.333333333333333, 7.666666666666667]\n"
          ]
        }
      ]
    },
    {
      "cell_type": "code",
      "source": [
        "# Calculate the mean of array ignoring the NaN value\n",
        "\n",
        "arr = np.array([[3, 5, 7], [2, np.nan, 4],  [8, 6, np.nan]])\n",
        "\n",
        "print(\"Mean without ignore NaN values: \", np.mean(arr))\n",
        "print(\"Mean ignoring NaN values: \", np.nanmean(arr))"
      ],
      "metadata": {
        "colab": {
          "base_uri": "https://localhost:8080/"
        },
        "id": "4kEnXpXpMtER",
        "outputId": "85e78e1e-6f60-4909-84b4-4f9963530c6e"
      },
      "execution_count": null,
      "outputs": [
        {
          "output_type": "stream",
          "name": "stdout",
          "text": [
            "Mean without ignore NaN values:  nan\n",
            "Mean ignoring NaN values:  5.0\n"
          ]
        }
      ]
    },
    {
      "cell_type": "code",
      "source": [
        "# Get the mean value from given matrix\n",
        "\n",
        "mtrx = np.matrix(np.arange(9).reshape(3, 3))\n",
        "print(mtrx, \"\\n\")\n",
        "print(np.mean(mtrx))"
      ],
      "metadata": {
        "colab": {
          "base_uri": "https://localhost:8080/"
        },
        "id": "qysmnNtINzw-",
        "outputId": "78a2cb43-1a1b-4ee5-af0d-02757d4c2eeb"
      },
      "execution_count": null,
      "outputs": [
        {
          "output_type": "stream",
          "name": "stdout",
          "text": [
            "[[0 1 2]\n",
            " [3 4 5]\n",
            " [6 7 8]] \n",
            "\n",
            "4.0\n"
          ]
        }
      ]
    },
    {
      "cell_type": "code",
      "source": [
        "# Compute the variance of the NumPy array\n",
        "\n",
        "arr = np.array([[3, 3, 9], [2, 1, 2]])\n",
        "\n",
        "# var of the flattened array \n",
        "print(\"\\nvar of arr, axis=None : \", np.var(arr)) \n",
        "      \n",
        "# var along the axis = 0 \n",
        "print(\"\\nvar of arr, axis=0 : \", np.var(arr, axis=0)) "
      ],
      "metadata": {
        "colab": {
          "base_uri": "https://localhost:8080/"
        },
        "id": "LrpDNRbOOeic",
        "outputId": "2e6b8850-c380-4caf-a70d-b20c88b98bda"
      },
      "execution_count": null,
      "outputs": [
        {
          "output_type": "stream",
          "name": "stdout",
          "text": [
            "\n",
            "var of arr, axis=None :  6.888888888888888\n",
            "\n",
            "var of arr, axis=0 :  [ 0.25  1.   12.25]\n"
          ]
        }
      ]
    },
    {
      "cell_type": "code",
      "source": [
        "# Compute the standard deviation of the NumPy array\n",
        "\n",
        "arr = np.array([[3, 2, 1], [0, 4, 7], [1, 6, 2]])\n",
        "\n",
        "# std of the flattened array \n",
        "print(\"\\nstd of arr, axis=None : \", np.std(arr)) \n",
        "    \n",
        "# std along the axis = 0 \n",
        "print(\"\\nstd of arr, axis=0 : \", np.std(arr, axis=0)) "
      ],
      "metadata": {
        "colab": {
          "base_uri": "https://localhost:8080/"
        },
        "id": "wZLGOSgNPo3R",
        "outputId": "3178f7a0-e917-4098-bc57-19e7d918d478"
      },
      "execution_count": null,
      "outputs": [
        {
          "output_type": "stream",
          "name": "stdout",
          "text": [
            "\n",
            "std of arr, axis=None :  2.23330569358242\n",
            "\n",
            "std of arr, axis=0 :  [1.24721913 1.63299316 2.62466929]\n"
          ]
        }
      ]
    },
    {
      "cell_type": "code",
      "source": [
        "# Compute pearson product-moment correlation coefficients of two given NumPy arrays\n",
        "\n",
        "arr_1 = np.array([3, 5, 6])\n",
        "arr_2 = np.array([1, 2, 4])\n",
        "\n",
        "result = np.corrcoef(arr_1, arr_2)\n",
        "print(result)"
      ],
      "metadata": {
        "colab": {
          "base_uri": "https://localhost:8080/"
        },
        "id": "UdiG1xaYP9H_",
        "outputId": "bdbef4e9-9766-45a3-d45a-c43e7ead904b"
      },
      "execution_count": null,
      "outputs": [
        {
          "output_type": "stream",
          "name": "stdout",
          "text": [
            "[[1.         0.92857143]\n",
            " [0.92857143 1.        ]]\n"
          ]
        }
      ]
    },
    {
      "cell_type": "code",
      "source": [
        "# Calculate the mean across dimension in a 2D NumPy array\n",
        "\n",
        "arr = np.array([[8, 2, 4], [6, 4, 5], [3, 2, 1]])\n",
        "\n",
        "\n",
        "# Calculating mean across Rows\n",
        "row_mean = np.mean(arr, axis=1)\n",
        "\n",
        "row1_mean = row_mean[0]\n",
        "print(\"Mean of Row 1 is\", row1_mean)\n",
        "  \n",
        "row2_mean = row_mean[1]\n",
        "print(\"Mean of Row 2 is\", row2_mean)\n",
        "  \n",
        "row3_mean = row_mean[2]\n",
        "print(\"Mean of Row 3 is\", row3_mean)\n",
        "  \n",
        "  \n",
        "# Calculating mean across Columns\n",
        "column_mean = np.mean(arr, axis=0)\n",
        "  \n",
        "column1_mean = column_mean[0]\n",
        "print(\"Mean of column 1 is\", column1_mean)\n",
        "  \n",
        "column2_mean = column_mean[1]\n",
        "print(\"Mean of column 2 is\", column2_mean)\n",
        "  \n",
        "column3_mean = column_mean[2]\n",
        "print(\"Mean of column 3 is\", column3_mean)"
      ],
      "metadata": {
        "colab": {
          "base_uri": "https://localhost:8080/"
        },
        "id": "5ksugX0NQWTn",
        "outputId": "c7f5475d-ef9e-4109-d14c-38f0921038e8"
      },
      "execution_count": null,
      "outputs": [
        {
          "output_type": "stream",
          "name": "stdout",
          "text": [
            "Mean of Row 1 is 4.666666666666667\n",
            "Mean of Row 2 is 5.0\n",
            "Mean of Row 3 is 2.0\n",
            "Mean of column 1 is 5.666666666666667\n",
            "Mean of column 2 is 2.6666666666666665\n",
            "Mean of column 3 is 3.3333333333333335\n"
          ]
        }
      ]
    },
    {
      "cell_type": "code",
      "source": [
        "# Calculate the average, variance and standard deviation in Python using NumPy\n",
        "\n",
        "list = [2, 3, 10, 6, 8, 14, 2, 1, 4]\n",
        "\n",
        "print(\"Average: \", np.average(list))\n",
        "print(\"Variance: \", np.var(list))\n",
        "print(\"Standard Deviation\", np.std(list))"
      ],
      "metadata": {
        "colab": {
          "base_uri": "https://localhost:8080/"
        },
        "id": "9Z-BoahZRTas",
        "outputId": "5fbf94d5-14ad-45d0-959d-517f0ec42441"
      },
      "execution_count": null,
      "outputs": [
        {
          "output_type": "stream",
          "name": "stdout",
          "text": [
            "Average:  5.555555555555555\n",
            "Variance:  16.913580246913583\n",
            "Standard Deviation 4.1126123385159445\n"
          ]
        }
      ]
    },
    {
      "cell_type": "code",
      "source": [
        "# Describe a NumPy Array in Python\n",
        "\n",
        "arr = np.array([[2, 4, 8, 16, 32, 64]])\n",
        "\n",
        "# measures of central tendency\n",
        "mean = np.mean(arr)\n",
        "median = np.median(arr)\n",
        " \n",
        "# measures of dispersion\n",
        "min = np.amin(arr)\n",
        "max = np.amax(arr)\n",
        "range = np.ptp(arr)\n",
        "variance = np.var(arr)\n",
        "sd = np.std(arr)\n",
        " \n",
        "print(\"Descriptive analysis\")\n",
        "print(\"Array =\", arr)\n",
        "print(\"Measures of Central Tendency\")\n",
        "print(\"Mean =\", mean)\n",
        "print(\"Median =\", median)\n",
        "print(\"Measures of Dispersion\")\n",
        "print(\"Minimum =\", min)\n",
        "print(\"Maximum =\", max)\n",
        "print(\"Range =\", range)\n",
        "print(\"Variance =\", variance)\n",
        "print(\"Standard Deviation =\", sd)"
      ],
      "metadata": {
        "colab": {
          "base_uri": "https://localhost:8080/"
        },
        "id": "illYGGORSJDl",
        "outputId": "6dec68b6-2373-4d01-91fb-aec2b4522694"
      },
      "execution_count": null,
      "outputs": [
        {
          "output_type": "stream",
          "name": "stdout",
          "text": [
            "Descriptive analysis\n",
            "Array = [[ 2  4  8 16 32 64]]\n",
            "Measures of Central Tendency\n",
            "Mean = 21.0\n",
            "Median = 12.0\n",
            "Measures of Dispersion\n",
            "Minimum = 2\n",
            "Maximum = 64\n",
            "Range = 62\n",
            "Variance = 469.0\n",
            "Standard Deviation = 21.656407827707714\n"
          ]
        }
      ]
    },
    {
      "cell_type": "markdown",
      "source": [
        "# Questions on Polynomial\n"
      ],
      "metadata": {
        "id": "kOcgZ2oBShO2"
      }
    },
    {
      "cell_type": "code",
      "source": [
        "# Define a polynomial function\n",
        "\n",
        "# Constructing polynomial\n",
        "p1 = np.poly1d([1, 4])\n",
        "p2 = np.poly1d([4, 2, 5, 8])\n",
        " \n",
        "print (\"P1 : \", p1)\n",
        "print (\"\\n p2 : \\n\", p2)\n",
        " \n",
        "# Solve for x = 3\n",
        "print (\"\\np1 at x = 3 : \", p1(3))\n",
        "print (\"p2 at x = 3 : \", p2(3))\n",
        " \n",
        "# Finding Coefficients\n",
        "print (\"\\nCoefficients of P1 : \", p1.c)\n",
        "print (\"Coefficients of P2 : \", p2.coeffs)\n",
        "\n",
        "# Finding Order\n",
        "print (\"\\nOrder / Degree of P1 : \", p1.o)\n",
        "print (\"Order / Degree of P2 : \", p2.order)"
      ],
      "metadata": {
        "colab": {
          "base_uri": "https://localhost:8080/"
        },
        "id": "jciVkIIrSjvQ",
        "outputId": "d41a47de-a7e1-49ca-b755-c3c61908b123"
      },
      "execution_count": null,
      "outputs": [
        {
          "output_type": "stream",
          "name": "stdout",
          "text": [
            "P1 :   \n",
            "1 x + 4\n",
            "\n",
            " p2 : \n",
            "    3     2\n",
            "4 x + 2 x + 5 x + 8\n",
            "\n",
            "p1 at x = 3 :  7\n",
            "p2 at x = 3 :  149\n",
            "\n",
            "Coefficients of P1 :  [1 4]\n",
            "Coefficients of P2 :  [4 2 5 8]\n",
            "\n",
            "Order / Degree of P1 :  1\n",
            "Order / Degree of P2 :  3\n"
          ]
        }
      ]
    },
    {
      "cell_type": "code",
      "source": [
        "# How to add one polynomial to another using NumPy in Python?\n",
        "\n",
        "# p(x) = 6(x**2) + (-2)x + 8\n",
        "px = (6,-2,8)\n",
        "\n",
        "# q(x) = 2(x**2) + (3)x + 2\n",
        "qx = (2,3,2)\n",
        "\n",
        "# add the polynomials\n",
        "rx = np.polynomial.polynomial.polyadd(px,qx)\n",
        "\n",
        "# print the resultant polynomial\n",
        "print(rx)"
      ],
      "metadata": {
        "colab": {
          "base_uri": "https://localhost:8080/"
        },
        "id": "0p1jw2hST7hC",
        "outputId": "010179fa-2741-4217-9383-8b5dd0d40fbb"
      },
      "execution_count": null,
      "outputs": [
        {
          "output_type": "stream",
          "name": "stdout",
          "text": [
            "[ 8.  1. 10.]\n"
          ]
        }
      ]
    },
    {
      "cell_type": "code",
      "source": [
        "# How to subtract one polynomial to another using NumPy in Python?\n",
        "\n",
        "# p(x) = 6(x**2) + (-2)x + 8\n",
        "px = (6,-2,8)\n",
        "\n",
        "# q(x) = 2(x**2) + (3)x + 2\n",
        "qx = (2,3,2)\n",
        "\n",
        "# add the polynomials\n",
        "rx = np.polynomial.polynomial.polysub(px,qx)\n",
        "\n",
        "# print the resultant polynomial\n",
        "print(rx)"
      ],
      "metadata": {
        "colab": {
          "base_uri": "https://localhost:8080/"
        },
        "id": "pQquwUUGT9ns",
        "outputId": "80282c4a-e91c-4088-b853-d6f246100ce1"
      },
      "execution_count": null,
      "outputs": [
        {
          "output_type": "stream",
          "name": "stdout",
          "text": [
            "[ 4. -5.  6.]\n"
          ]
        }
      ]
    },
    {
      "cell_type": "code",
      "source": [
        "# How to multiply a polynomial to another using NumPy in Python?\n",
        "\n",
        "# p(x) = 6(x**2) + (-2)x + 8\n",
        "px = (6,-2,8)\n",
        "\n",
        "# q(x) = 2(x**2) + (3)x + 2\n",
        "qx = (2,3,2)\n",
        "\n",
        "# add the polynomials\n",
        "rx = np.polynomial.polynomial.polymul(px,qx)\n",
        "\n",
        "# print the resultant polynomial\n",
        "print(rx)"
      ],
      "metadata": {
        "colab": {
          "base_uri": "https://localhost:8080/"
        },
        "id": "j825I63DUBCK",
        "outputId": "adee01df-a3f5-4e89-b431-06002dd84cca"
      },
      "execution_count": null,
      "outputs": [
        {
          "output_type": "stream",
          "name": "stdout",
          "text": [
            "[12. 14. 22. 20. 16.]\n"
          ]
        }
      ]
    },
    {
      "cell_type": "code",
      "source": [
        "# How to divide a polynomial to another using NumPy in Python?\n",
        "\n",
        "# p(x) = 6(x**2) + (-2)x + 8\n",
        "px = (6,-2,5)\n",
        "\n",
        "# q(x) = 2(x**2) + (3)x + 2\n",
        "gx = (2,3,2)\n",
        "\n",
        "# add the polynomials\n",
        "qx, rx = np.polynomial.polynomial.polydiv(px, gx)\n",
        "\n",
        "# print the resultant polynomial\n",
        "print(qx)\n",
        "print(rx)"
      ],
      "metadata": {
        "colab": {
          "base_uri": "https://localhost:8080/"
        },
        "id": "pCbF-ZKQUClC",
        "outputId": "1c0b75c2-8372-4a64-f1af-5c9d12941ef2"
      },
      "execution_count": null,
      "outputs": [
        {
          "output_type": "stream",
          "name": "stdout",
          "text": [
            "[2.5]\n",
            "[ 1.  -9.5]\n"
          ]
        }
      ]
    },
    {
      "cell_type": "code",
      "source": [
        "# Find the roots of the polynomials using NumPy\n",
        "\n",
        "p1 = np.poly1d([1, 4])\n",
        "p2 = np.poly1d([4, 2, 5])\n",
        "\n",
        "# Finding Roots\n",
        "print (\"\\nRoots of P1 : \", p1.r)\n",
        "print (\"Roots of P2 : \", p2.r)"
      ],
      "metadata": {
        "colab": {
          "base_uri": "https://localhost:8080/"
        },
        "id": "Ch9m1yz-TWk8",
        "outputId": "765c027e-68fd-44ca-b9ab-772865cbe262"
      },
      "execution_count": null,
      "outputs": [
        {
          "output_type": "stream",
          "name": "stdout",
          "text": [
            "\n",
            "Roots of P1 :  [-4.]\n",
            "Roots of P2 :  [-0.25+1.08972474j -0.25-1.08972474j]\n"
          ]
        }
      ]
    },
    {
      "cell_type": "code",
      "source": [
        "# Evaluate a 2-D polynomial series on the Cartesian product\n",
        "\n",
        "from numpy.polynomial.polynomial import polygrid2d\n",
        "\n",
        "# Input polynomial series coefficients\n",
        "c = np.array([[3, 3, 8], [4, 1, 2]])\n",
        "\n",
        "# using np.polygrid2d() method \n",
        "ans = polygrid2d(7, 8, c)\n",
        "  \n",
        "print(ans)"
      ],
      "metadata": {
        "colab": {
          "base_uri": "https://localhost:8080/"
        },
        "id": "ts9IOBBAWR_m",
        "outputId": "7eedf3b4-cda1-418a-c1ac-40591aedbae9"
      },
      "execution_count": null,
      "outputs": [
        {
          "output_type": "stream",
          "name": "stdout",
          "text": [
            "1519.0\n"
          ]
        }
      ]
    },
    {
      "cell_type": "code",
      "source": [
        "# Evaluate a 3-D polynomial series on the Cartesian product\n",
        "\n",
        "from numpy.polynomial.polynomial import polygrid3d\n",
        "\n",
        "# Input polynomial series coefficients\n",
        "c = np.array([[3, 3, 8], [4, 1, 2], [6, 4, 5]])\n",
        "\n",
        "# using np.polygrid3d() method \n",
        "ans = polygrid3d([7, 8], [9, 10], [3, 2], c)\n",
        "# ans = polygrid3d(4, 10, 12, c)\n",
        "  \n",
        "print(ans)"
      ],
      "metadata": {
        "colab": {
          "base_uri": "https://localhost:8080/"
        },
        "id": "1Fcuptv9WuXw",
        "outputId": "47b6bba3-65a8-456e-edc6-0dcb47dfe65f"
      },
      "execution_count": null,
      "outputs": [
        {
          "output_type": "stream",
          "name": "stdout",
          "text": [
            "[[115864.  85178.]\n",
            " [141552. 104063.]]\n"
          ]
        }
      ]
    },
    {
      "cell_type": "markdown",
      "source": [
        "# Questions on NumPy Strings\n"
      ],
      "metadata": {
        "id": "zP39w8lLXdGu"
      }
    },
    {
      "cell_type": "code",
      "source": [
        "# Repeat all the elements of a NumPy array of strings\n",
        "\n",
        "# created array of strings\n",
        "arr = np.array(['Rafael', 'Lucas', 'Paes', \n",
        "                'Willy', 'Bruno'], dtype = str)\n",
        "print(\"Original Array :\")\n",
        "print(arr)\n",
        "  \n",
        "# repeating the characters 3 times\n",
        "new_array = np.char.multiply(arr, 3)\n",
        "print(\"\\nNew array :\")\n",
        "print(new_array)"
      ],
      "metadata": {
        "colab": {
          "base_uri": "https://localhost:8080/"
        },
        "id": "bC7OF50KXf0X",
        "outputId": "8583459b-5d1f-4474-9a77-1ca989e202d5"
      },
      "execution_count": null,
      "outputs": [
        {
          "output_type": "stream",
          "name": "stdout",
          "text": [
            "Original Array :\n",
            "['Rafael' 'Lucas' 'Paes' 'Willy' 'Bruno']\n",
            "\n",
            "New array :\n",
            "['RafaelRafaelRafael' 'LucasLucasLucas' 'PaesPaesPaes' 'WillyWillyWilly'\n",
            " 'BrunoBrunoBruno']\n"
          ]
        }
      ]
    },
    {
      "cell_type": "code",
      "source": [
        "# How to split the element of a given NumPy array with spaces?\n",
        "\n",
        "arr = np.array(['Laravel React Vue Angular Express'], dtype=str)\n",
        "print(arr)\n",
        "  \n",
        "# Split the element of the said array with spaces\n",
        "sparr = np.char.split(arr)\n",
        "print(sparr)"
      ],
      "metadata": {
        "colab": {
          "base_uri": "https://localhost:8080/"
        },
        "id": "EdmvSZIAYAO9",
        "outputId": "5bb6004d-ecd9-493f-acce-1506cf5ca879"
      },
      "execution_count": null,
      "outputs": [
        {
          "output_type": "stream",
          "name": "stdout",
          "text": [
            "['Laravel React Vue Angular Express']\n",
            "[list(['Laravel', 'React', 'Vue', 'Angular', 'Express'])]\n"
          ]
        }
      ]
    },
    {
      "cell_type": "code",
      "source": [
        "# How to insert a space between characters of all the elements of a given NumPy array?\n",
        "\n",
        "x = np.array([\"lorem\", \"ipsum\", \"dolor\"], dtype=str)\n",
        "\n",
        "print(\"Printing the Original Array:\")\n",
        "print(x)\n",
        "  \n",
        "# inserting space using np.char.join()\n",
        "r = np.char.join(\" \", x)\n",
        "print(\"Printing the array after inserting space\\\n",
        "between the elements\")\n",
        "print(r)"
      ],
      "metadata": {
        "colab": {
          "base_uri": "https://localhost:8080/"
        },
        "id": "F-F8N2qOaCE2",
        "outputId": "69300c45-0575-48b4-dbd0-11983053b39e"
      },
      "execution_count": null,
      "outputs": [
        {
          "output_type": "stream",
          "name": "stdout",
          "text": [
            "Printing the Original Array:\n",
            "['lorem' 'ipsum' 'dolor']\n",
            "Printing the array after inserting spacebetween the elements\n",
            "['l o r e m' 'i p s u m' 'd o l o r']\n"
          ]
        }
      ]
    },
    {
      "cell_type": "code",
      "source": [
        "# Find the length of each string element in the Numpy array\n",
        "\n",
        "arr = np.array(['Brasil', 'Colombia', 'Uruguai', 'Argentina'])\n",
        "\n",
        "# Use vectorize function of numpy\n",
        "length_checker = np.vectorize(len)\n",
        "  \n",
        "# Find the length of each element\n",
        "arr_len = length_checker(arr)\n",
        "  \n",
        "# Print the length of each element\n",
        "print(arr_len)"
      ],
      "metadata": {
        "colab": {
          "base_uri": "https://localhost:8080/"
        },
        "id": "9OHFLSrfac0c",
        "outputId": "5845a86b-65df-4e05-8c31-2891bbe5904c"
      },
      "execution_count": null,
      "outputs": [
        {
          "output_type": "stream",
          "name": "stdout",
          "text": [
            "[6 8 7 9]\n"
          ]
        }
      ]
    },
    {
      "cell_type": "code",
      "source": [
        "# Swap the case of an array of string\n",
        "\n",
        "arr = np.array(['BraSil', 'ColomBia', 'UruGuai', 'ArGenTina'])\n",
        "\n",
        "out_arr = np.char.swapcase(arr)\n",
        "print (\"output swapcasecased array :\", out_arr)"
      ],
      "metadata": {
        "colab": {
          "base_uri": "https://localhost:8080/"
        },
        "id": "RdLPGJRybH3b",
        "outputId": "6d6720fe-32ef-4f22-db1c-9b80fc6366be"
      },
      "execution_count": null,
      "outputs": [
        {
          "output_type": "stream",
          "name": "stdout",
          "text": [
            "output swapcasecased array : ['bRAsIL' 'cOLOMbIA' 'uRUgUAI' 'aRgENtINA']\n"
          ]
        }
      ]
    },
    {
      "cell_type": "code",
      "source": [
        "# Change the case to uppercase of elements of an array\n",
        "\n",
        "arr = np.array(['BraSil', 'ColomBia', 'UruGuai', 'ArGenTina'])\n",
        "\n",
        "out_arr = np.char.upper(arr)\n",
        "print (\"output uppercase array :\", out_arr)"
      ],
      "metadata": {
        "id": "hWH0BDBRbZDI",
        "colab": {
          "base_uri": "https://localhost:8080/"
        },
        "outputId": "ac251397-2240-402b-ea1e-444c21bbbf9b"
      },
      "execution_count": null,
      "outputs": [
        {
          "output_type": "stream",
          "name": "stdout",
          "text": [
            "output uppercase array : ['BRASIL' 'COLOMBIA' 'URUGUAI' 'ARGENTINA']\n"
          ]
        }
      ]
    },
    {
      "cell_type": "code",
      "source": [
        "# Change the case to lowercase of elements of an array\n",
        "\n",
        "arr = np.array(['BraSil', 'ColomBia', 'UruGuai', 'ArGenTina'])\n",
        "\n",
        "out_arr = np.char.lower(arr)\n",
        "print (\"output lowercase array :\", out_arr)"
      ],
      "metadata": {
        "colab": {
          "base_uri": "https://localhost:8080/"
        },
        "id": "kc7w0mQ-zViT",
        "outputId": "11026fdc-e027-403d-98b8-8645f9ae555c"
      },
      "execution_count": null,
      "outputs": [
        {
          "output_type": "stream",
          "name": "stdout",
          "text": [
            "output lowercase array : ['brasil' 'colombia' 'uruguai' 'argentina']\n"
          ]
        }
      ]
    },
    {
      "cell_type": "code",
      "source": [
        "# Join String by a seperator\n",
        "\n",
        "in_arr = np.array(['Python', 'Javascript', 'PHP'])\n",
        "print (\"Input original array : \", in_arr) \n",
        "  \n",
        "# creating the separator\n",
        "sep = np.array('-')\n",
        "  \n",
        "out_arr = np.core.defchararray.join(sep, in_arr)\n",
        "print (\"Output joined array: \", out_arr) "
      ],
      "metadata": {
        "colab": {
          "base_uri": "https://localhost:8080/"
        },
        "id": "uvda8yofzhtI",
        "outputId": "f8b38fc2-2324-4813-a5b5-b3df4971b872"
      },
      "execution_count": null,
      "outputs": [
        {
          "output_type": "stream",
          "name": "stdout",
          "text": [
            "Input original array :  ['Python' 'Javascript' 'PHP']\n",
            "Output joined array:  ['P-y-t-h-o-n' 'J-a-v-a-s-c-r-i-p-t' 'P-H-P']\n"
          ]
        }
      ]
    },
    {
      "cell_type": "code",
      "source": [
        "# Check if two same shaped string arrays one by one\n",
        "\n",
        "arr1 = np.array(['Bella', 'Tom', 'John', 'Kate', 'Amy', 'Brad'])\n",
        "arr2 = np.array(['Cio', 'Tom', 'Cena', 'Kate', 'Adams', 'brad'])\n",
        "\n",
        "print(np.char.equal(arr1,arr2))"
      ],
      "metadata": {
        "colab": {
          "base_uri": "https://localhost:8080/"
        },
        "id": "UpflYaIe0BIk",
        "outputId": "cc5de9f2-561c-4d20-8016-93b9e10563db"
      },
      "execution_count": null,
      "outputs": [
        {
          "output_type": "stream",
          "name": "stdout",
          "text": [
            "[False  True False  True False False]\n"
          ]
        }
      ]
    },
    {
      "cell_type": "code",
      "source": [
        "# Count the number of substrings in an array\n",
        "\n",
        "arr = np.array(['AaAaa', 'Aaa', 'BcAabb'])\n",
        "print (\"Input array : \", arr)\n",
        "  \n",
        "# output arrays \n",
        "out_arr = np.char.count(arr, sub ='A')\n",
        "print (\"Output array: \", out_arr) "
      ],
      "metadata": {
        "colab": {
          "base_uri": "https://localhost:8080/"
        },
        "id": "HInTCcwS0lG2",
        "outputId": "9e64c925-560e-49ea-bc14-9e135382eddb"
      },
      "execution_count": null,
      "outputs": [
        {
          "output_type": "stream",
          "name": "stdout",
          "text": [
            "Input array :  ['AaAaa' 'Aaa' 'BcAabb']\n",
            "Output array:  [2 1 1]\n"
          ]
        }
      ]
    },
    {
      "cell_type": "code",
      "source": [
        "# Find the lowest index of the substring in an array\n",
        "\n",
        "arr = np.array(['KATIE', 'ATM', 'KATE'])\n",
        "\n",
        "print(\"\\nResult (index() method)...\\n\",np.char.index(arr, 'AT'))"
      ],
      "metadata": {
        "colab": {
          "base_uri": "https://localhost:8080/"
        },
        "id": "cy847jLF1MtB",
        "outputId": "35afe087-9001-4402-f47e-69601f113b10"
      },
      "execution_count": null,
      "outputs": [
        {
          "output_type": "stream",
          "name": "stdout",
          "text": [
            "\n",
            "Result (index() method)...\n",
            " [1 0 1]\n"
          ]
        }
      ]
    },
    {
      "cell_type": "code",
      "source": [
        "# Get the boolean array when values end with a particular character\n",
        "\n",
        "arr = np.array(['Rafael', 'Lucas', 'Paes', 'Willy', 'Bruno'])\n",
        "\n",
        "print(np.char.endswith(arr, 's'))"
      ],
      "metadata": {
        "colab": {
          "base_uri": "https://localhost:8080/"
        },
        "id": "QoyIxpFa1_-d",
        "outputId": "891d53e4-3c3c-438c-d403-5bc4c3160450"
      },
      "execution_count": null,
      "outputs": [
        {
          "output_type": "stream",
          "name": "stdout",
          "text": [
            "[False  True  True False False]\n"
          ]
        }
      ]
    },
    {
      "cell_type": "code",
      "source": [
        "# Different ways to convert a Python dictionary to a NumPy array\n",
        "\n",
        "# Creating a Dictionary\n",
        "dict = {1: 'React',\n",
        "        2: 'Vuejs',\n",
        "        3: 'Angular'}\n",
        "  \n",
        "# to return a group of the key-value\n",
        "# pairs in the dictionary\n",
        "result = dict.items()\n",
        "  \n",
        "# Convert object to a list\n",
        "data = list(result)\n",
        "  \n",
        "# Convert list to an array\n",
        "arr = np.array(data)\n",
        "print(arr)"
      ],
      "metadata": {
        "colab": {
          "base_uri": "https://localhost:8080/"
        },
        "id": "lOE2BSGg2dxa",
        "outputId": "987cb028-8d55-423c-c3f0-0f3a0701b061"
      },
      "execution_count": null,
      "outputs": [
        {
          "output_type": "stream",
          "name": "stdout",
          "text": [
            "[['1' 'React']\n",
            " ['2' 'Vuejs']\n",
            " ['3' 'Angular']]\n"
          ]
        }
      ]
    },
    {
      "cell_type": "code",
      "source": [
        "# How to convert a list and tuple into NumPy arrays?\n",
        "\n",
        "# list\n",
        "list1 = [3, 4, 9, 7]\n",
        "print(type(list1))\n",
        "print(list1, \"\\n\")\n",
        "  \n",
        "# conversion\n",
        "arr1 = np.asarray(list1)\n",
        "print(type(arr1))\n",
        "print(arr1, \"\\n\")\n",
        "  \n",
        "# tuple\n",
        "tuple1 = ([1, 3, 6], [5, 2, 3])\n",
        "print(type(tuple1))\n",
        "print(tuple1, \"\\n\")\n",
        "\n",
        "# conversion\n",
        "arr2 = np.asarray(tuple1)\n",
        "print(type(arr2))\n",
        "print(arr2)"
      ],
      "metadata": {
        "colab": {
          "base_uri": "https://localhost:8080/"
        },
        "id": "p2mlpG8C4SAj",
        "outputId": "1130a766-b476-4558-8ae3-c5aff0e02f53"
      },
      "execution_count": null,
      "outputs": [
        {
          "output_type": "stream",
          "name": "stdout",
          "text": [
            "<class 'list'>\n",
            "[3, 4, 9, 7] \n",
            "\n",
            "<class 'numpy.ndarray'>\n",
            "[3 4 9 7] \n",
            "\n",
            "<class 'tuple'>\n",
            "([1, 3, 6], [5, 2, 3]) \n",
            "\n",
            "<class 'numpy.ndarray'>\n",
            "[[1 3 6]\n",
            " [5 2 3]]\n"
          ]
        }
      ]
    },
    {
      "cell_type": "code",
      "source": [
        "# Ways to convert array of strings to array of floats\n",
        "\n",
        "arr = np.array([\"1.3\", \"2.1\", \"4.7\", \"6.3\"])\n",
        "print (\"array of strings: \", str(arr))\n",
        " \n",
        "# converting to array of floats\n",
        "# using np.astype\n",
        "res = arr.astype(float)\n",
        "print (\"array of floats: \", str(res))"
      ],
      "metadata": {
        "colab": {
          "base_uri": "https://localhost:8080/"
        },
        "id": "5qISFv5g5PvP",
        "outputId": "1872a217-b723-47e6-8a4d-e040cc27a882"
      },
      "execution_count": null,
      "outputs": [
        {
          "output_type": "stream",
          "name": "stdout",
          "text": [
            "array of strings:  ['1.3' '2.1' '4.7' '6.3']\n",
            "array of floats:  [1.3 2.1 4.7 6.3]\n"
          ]
        }
      ]
    },
    {
      "cell_type": "code",
      "source": [
        "# Convert a NumPy array into a csv file\n",
        "\n",
        "arr = np.arange(12).reshape(4,3)\n",
        "print(arr)\n",
        "  \n",
        "# convert array into dataframe\n",
        "df = pd.DataFrame(arr)\n",
        "  \n",
        "# save the dataframe as a csv file\n",
        "df.to_csv(\"data1.csv\")"
      ],
      "metadata": {
        "colab": {
          "base_uri": "https://localhost:8080/"
        },
        "id": "FyA4PtVo6GNA",
        "outputId": "b8b6f89e-2dbe-4b5e-d2a3-fa46d7ebdc80"
      },
      "execution_count": null,
      "outputs": [
        {
          "output_type": "stream",
          "name": "stdout",
          "text": [
            "[[ 0  1  2]\n",
            " [ 3  4  5]\n",
            " [ 6  7  8]\n",
            " [ 9 10 11]]\n"
          ]
        }
      ]
    },
    {
      "cell_type": "code",
      "source": [
        "# How to Convert an image to NumPy array and save it to CSV file using Python?\n",
        "\n",
        "from PIL import Image\n",
        "\n",
        "# https://i.pinimg.com/736x/db/82/77/db8277baf95186541a9f48fae14f989d.jpg\n",
        "# read an image\n",
        "img = Image.open('image.jpg')\n",
        "\n",
        "# convert image object into array\n",
        "imageToMatrice = np.asarray(img)\n",
        "\n",
        "# printing shape of image\n",
        "print(imageToMatrice.shape)"
      ],
      "metadata": {
        "colab": {
          "base_uri": "https://localhost:8080/"
        },
        "id": "pl74jh3Y-SFU",
        "outputId": "ed43d2f4-81bd-4cab-f222-32a2c2483082"
      },
      "execution_count": null,
      "outputs": [
        {
          "output_type": "stream",
          "name": "stdout",
          "text": [
            "(375, 376, 3)\n"
          ]
        }
      ]
    },
    {
      "cell_type": "code",
      "source": [
        "# How to save a NumPy array to a text file?\n",
        "\n",
        "arr = np.arange(12).reshape(4,3)\n",
        "print(arr)\n",
        " \n",
        "# Saving the array in a text file\n",
        "file = open(\"file.txt\", \"w+\")\n",
        "content = str(arr)\n",
        "file.write(content)\n",
        "file.close()\n",
        " \n",
        "# Displaying the contents of the text file\n",
        "file = open(\"file.txt\", \"r\")\n",
        "content = file.read()\n",
        " \n",
        "print(\"\\nContent in file1.txt:\\n\", content)\n",
        "file.close()"
      ],
      "metadata": {
        "colab": {
          "base_uri": "https://localhost:8080/"
        },
        "id": "vfWTM9WnOQAo",
        "outputId": "0cc1bc68-d36c-4ffc-9d6e-3ec8abccddde"
      },
      "execution_count": null,
      "outputs": [
        {
          "output_type": "stream",
          "name": "stdout",
          "text": [
            "[[ 0  1  2]\n",
            " [ 3  4  5]\n",
            " [ 6  7  8]\n",
            " [ 9 10 11]]\n",
            "\n",
            "Content in file1.txt:\n",
            " [[ 0  1  2]\n",
            " [ 3  4  5]\n",
            " [ 6  7  8]\n",
            " [ 9 10 11]]\n"
          ]
        }
      ]
    },
    {
      "cell_type": "code",
      "source": [
        "# Load data from a text file\n",
        "\n",
        "File_data = np.loadtxt(\"test.txt\", dtype=int)\n",
        "print(File_data)"
      ],
      "metadata": {
        "colab": {
          "base_uri": "https://localhost:8080/"
        },
        "id": "OtK1RTEJbs0A",
        "outputId": "54ced619-7db8-4f2a-d12b-97ccc0f53365"
      },
      "execution_count": null,
      "outputs": [
        {
          "output_type": "stream",
          "name": "stdout",
          "text": [
            "[[1 2]\n",
            " [3 4]\n",
            " [5 6]]\n"
          ]
        }
      ]
    },
    {
      "cell_type": "code",
      "source": [
        "# Plot line graph from NumPy array\n",
        " \n",
        "x = np.arange(12)\n",
        "y = x * x\n",
        " \n",
        "# plotting\n",
        "plt.plot(x, y, color =\"red\")\n",
        "plt.show()"
      ],
      "metadata": {
        "colab": {
          "base_uri": "https://localhost:8080/",
          "height": 265
        },
        "id": "RmUb9Qxmcm0Q",
        "outputId": "ab51dbfd-056a-4841-d585-89c69b6b7d20"
      },
      "execution_count": null,
      "outputs": [
        {
          "output_type": "display_data",
          "data": {
            "text/plain": [
              "<Figure size 432x288 with 1 Axes>"
            ],
            "image/png": "[encoded data removed]"
          },
          "metadata": {
            "needs_background": "light"
          }
        }
      ]
    },
    {
      "cell_type": "code",
      "source": [
        "# Create Histogram using NumPy\n",
        " \n",
        "# Creating dataset\n",
        "a = np.random.randint(100, size =(50))\n",
        " \n",
        "# Creating plot\n",
        "fig = plt.figure(figsize =(10, 7))\n",
        " \n",
        "plt.hist(a, bins = [0, 10, 20, 30,\n",
        "                    40, 50, 60, 70,\n",
        "                    80, 90, 100])\n",
        "plt.title(\"Numpy Histogram\")\n",
        "plt.show()"
      ],
      "metadata": {
        "colab": {
          "base_uri": "https://localhost:8080/",
          "height": 444
        },
        "id": "s9Zk5wlKdxk9",
        "outputId": "17db9083-ab43-4007-876d-e507984285bc"
      },
      "execution_count": null,
      "outputs": [
        {
          "output_type": "display_data",
          "data": {
            "text/plain": [
              "<Figure size 720x504 with 1 Axes>"
            ],
            "image/png": "[encoded data removed]"
          },
          "metadata": {
            "needs_background": "light"
          }
        }
      ]
    }
  ]
}